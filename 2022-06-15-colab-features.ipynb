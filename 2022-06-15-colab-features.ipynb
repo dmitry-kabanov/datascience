{
  "nbformat": 4,
  "nbformat_minor": 0,
  "metadata": {
    "colab": {
      "name": "2022-06-15 Colab features.ipynb",
      "provenance": [],
      "collapsed_sections": [],
      "authorship_tag": "ABX9TyMHmOzG9XqXKmVLenZr1OqD",
      "include_colab_link": true
    },
    "kernelspec": {
      "name": "python3",
      "display_name": "Python 3"
    },
    "language_info": {
      "name": "python"
    },
    "gpuClass": "standard"
  },
  "cells": [
    {
      "cell_type": "markdown",
      "metadata": {
        "id": "view-in-github",
        "colab_type": "text"
      },
      "source": [
        "<a href=\"https://colab.research.google.com/github/dmitry-kabanov/datascience/blob/main/2022-06-15-colab-features.ipynb\" target=\"_parent\"><img src=\"https://colab.research.google.com/assets/colab-badge.svg\" alt=\"Open In Colab\"/></a>"
      ]
    },
    {
      "cell_type": "markdown",
      "source": [
        "# Colab features"
      ],
      "metadata": {
        "id": "toSaOEzXgP5s"
      }
    },
    {
      "cell_type": "markdown",
      "source": [
        "You can use `C-RET`, `S-RET`, and `A-RET` to execute a cell, execute and go the next one, and execute and create a new cell below, respectively."
      ],
      "metadata": {
        "id": "zYGI0fZogjRu"
      }
    },
    {
      "cell_type": "code",
      "source": [
        "import numpy as np"
      ],
      "metadata": {
        "id": "gQRZdITsg0sV"
      },
      "execution_count": 1,
      "outputs": []
    },
    {
      "cell_type": "code",
      "source": [
        "import tensorflow as tf"
      ],
      "metadata": {
        "id": "eG0TyuyGg2J2"
      },
      "execution_count": 2,
      "outputs": []
    },
    {
      "cell_type": "code",
      "source": [
        ""
      ],
      "metadata": {
        "id": "RABLU58mg_Xb"
      },
      "execution_count": 2,
      "outputs": []
    },
    {
      "cell_type": "markdown",
      "source": [
        "Using Unix commands"
      ],
      "metadata": {
        "id": "tuMoqkofhApA"
      }
    },
    {
      "cell_type": "code",
      "source": [
        "!ls /bin"
      ],
      "metadata": {
        "colab": {
          "base_uri": "https://localhost:8080/"
        },
        "id": "BhbDuZLEhjcD",
        "outputId": "69fc4057-68d4-4cb4-fa33-404c88b9bb50"
      },
      "execution_count": 3,
      "outputs": [
        {
          "output_type": "stream",
          "name": "stdout",
          "text": [
            "bash\t       hostname       su\n",
            "bunzip2        journalctl     sync\n",
            "bzcat\t       kill\t      systemctl\n",
            "bzcmp\t       kmod\t      systemd\n",
            "bzdiff\t       less\t      systemd-ask-password\n",
            "bzegrep        lessecho       systemd-escape\n",
            "bzexe\t       lessfile       systemd-hwdb\n",
            "bzfgrep        lesskey\t      systemd-inhibit\n",
            "bzgrep\t       lesspipe       systemd-machine-id-setup\n",
            "bzip2\t       ln\t      systemd-notify\n",
            "bzip2recover   login\t      systemd-sysusers\n",
            "bzless\t       loginctl       systemd-tmpfiles\n",
            "bzmore\t       ls\t      systemd-tty-ask-password-agent\n",
            "cat\t       lsblk\t      tar\n",
            "chgrp\t       lsmod\t      tempfile\n",
            "chmod\t       mkdir\t      touch\n",
            "chown\t       mknod\t      true\n",
            "cp\t       mktemp\t      udevadm\n",
            "dash\t       more\t      ulockmgr_server\n",
            "date\t       mount\t      umount\n",
            "dd\t       mountpoint     uname\n",
            "df\t       mv\t      uncompress\n",
            "dir\t       networkctl     vdir\n",
            "dmesg\t       nisdomainname  wdctl\n",
            "dnsdomainname  pidof\t      which\n",
            "domainname     ps\t      ypdomainname\n",
            "echo\t       pwd\t      zcat\n",
            "egrep\t       rbash\t      zcmp\n",
            "false\t       readlink       zdiff\n",
            "fgrep\t       rm\t      zegrep\n",
            "findmnt        rmdir\t      zfgrep\n",
            "fuser\t       run-parts      zforce\n",
            "fusermount     sed\t      zgrep\n",
            "grep\t       sh\t      zless\n",
            "gunzip\t       sh.distrib     zmore\n",
            "gzexe\t       sleep\t      znew\n",
            "gzip\t       stty\n"
          ]
        }
      ]
    },
    {
      "cell_type": "code",
      "source": [
        "!uname -a"
      ],
      "metadata": {
        "colab": {
          "base_uri": "https://localhost:8080/"
        },
        "id": "A4fOJg8YhkKS",
        "outputId": "1507632e-5b72-465c-9960-94f6846efd6a"
      },
      "execution_count": 4,
      "outputs": [
        {
          "output_type": "stream",
          "name": "stdout",
          "text": [
            "Linux e14a7553e56e 5.4.188+ #1 SMP Sun Apr 24 10:03:06 PDT 2022 x86_64 x86_64 x86_64 GNU/Linux\n"
          ]
        }
      ]
    },
    {
      "cell_type": "markdown",
      "source": [
        "You can run a shell command and assign it to a python variable!"
      ],
      "metadata": {
        "id": "l2pd_YcChohr"
      }
    },
    {
      "cell_type": "code",
      "source": [
        "msg = \"Hello World!\"\n",
        "output = !echo -e '$msg\\n$msg'\n",
        "output"
      ],
      "metadata": {
        "colab": {
          "base_uri": "https://localhost:8080/"
        },
        "id": "9gHYDD-GiLnM",
        "outputId": "5a894772-013c-4e9d-90d1-9f3d1d244507"
      },
      "execution_count": 5,
      "outputs": [
        {
          "output_type": "execute_result",
          "data": {
            "text/plain": [
              "['$msg', '$msg']"
            ]
          },
          "metadata": {},
          "execution_count": 5
        }
      ]
    },
    {
      "cell_type": "markdown",
      "source": [
        "You can also use HTML!!!"
      ],
      "metadata": {
        "id": "iZFwprJgiRCy"
      }
    },
    {
      "cell_type": "code",
      "source": [
        "%%html\n",
        "<svg xmlns=\"http://www.w3.org/2000/svg\" viewBox=\"0 0 450 400\" width=\"200\" height=\"200\">\n",
        "  <rect x=\"80\" y=\"60\" width=\"250\" height=\"250\" rx=\"20\" style=\"fill:red; stroke:black; fill-opacity:0.7\" />\n",
        "  <rect x=\"180\" y=\"110\" width=\"250\" height=\"250\" rx=\"40\" style=\"fill:blue; stroke:black; fill-opacity:0.5;\" />\n",
        "</svg>"
      ],
      "metadata": {
        "colab": {
          "base_uri": "https://localhost:8080/",
          "height": 221
        },
        "id": "LFTIQFwIisz1",
        "outputId": "0af38521-9eb9-4c00-cee4-e33e53d155c0"
      },
      "execution_count": 6,
      "outputs": [
        {
          "output_type": "display_data",
          "data": {
            "text/plain": [
              "<IPython.core.display.HTML object>"
            ],
            "text/html": [
              "<svg xmlns=\"http://www.w3.org/2000/svg\" viewBox=\"0 0 450 400\" width=\"200\" height=\"200\">\n",
              "  <rect x=\"80\" y=\"60\" width=\"250\" height=\"250\" rx=\"20\" style=\"fill:red; stroke:black; fill-opacity:0.7\" />\n",
              "  <rect x=\"180\" y=\"110\" width=\"250\" height=\"250\" rx=\"40\" style=\"fill:blue; stroke:black; fill-opacity:0.5;\" />\n",
              "</svg>\n"
            ]
          },
          "metadata": {}
        }
      ]
    },
    {
      "cell_type": "code",
      "source": [
        "np.ndarray"
      ],
      "metadata": {
        "colab": {
          "base_uri": "https://localhost:8080/"
        },
        "id": "ksqydpXhitW9",
        "outputId": "a05aef10-e738-46d8-cfc2-98c0dbfa1116"
      },
      "execution_count": 7,
      "outputs": [
        {
          "output_type": "execute_result",
          "data": {
            "text/plain": [
              "numpy.ndarray"
            ]
          },
          "metadata": {},
          "execution_count": 7
        }
      ]
    },
    {
      "cell_type": "markdown",
      "source": [
        "## Install software"
      ],
      "metadata": {
        "id": "7PbXadrAlSZ6"
      }
    },
    {
      "cell_type": "code",
      "source": [
        "!pip install ipdb"
      ],
      "metadata": {
        "colab": {
          "base_uri": "https://localhost:8080/"
        },
        "id": "gmkVYqg2lUf1",
        "outputId": "f7bea7e5-6eff-4d10-dbb6-adda646a4495"
      },
      "execution_count": 8,
      "outputs": [
        {
          "output_type": "stream",
          "name": "stdout",
          "text": [
            "Looking in indexes: https://pypi.org/simple, https://us-python.pkg.dev/colab-wheels/public/simple/\n",
            "Requirement already satisfied: ipdb in /usr/local/lib/python3.7/dist-packages (0.13.9)\n",
            "Requirement already satisfied: setuptools in /usr/local/lib/python3.7/dist-packages (from ipdb) (57.4.0)\n",
            "Requirement already satisfied: ipython>=7.17.0 in /usr/local/lib/python3.7/dist-packages (from ipdb) (7.34.0)\n",
            "Requirement already satisfied: toml>=0.10.2 in /usr/local/lib/python3.7/dist-packages (from ipdb) (0.10.2)\n",
            "Requirement already satisfied: decorator in /usr/local/lib/python3.7/dist-packages (from ipdb) (4.4.2)\n",
            "Requirement already satisfied: pexpect>4.3 in /usr/local/lib/python3.7/dist-packages (from ipython>=7.17.0->ipdb) (4.8.0)\n",
            "Requirement already satisfied: jedi>=0.16 in /usr/local/lib/python3.7/dist-packages (from ipython>=7.17.0->ipdb) (0.18.1)\n",
            "Requirement already satisfied: pygments in /usr/local/lib/python3.7/dist-packages (from ipython>=7.17.0->ipdb) (2.6.1)\n",
            "Requirement already satisfied: backcall in /usr/local/lib/python3.7/dist-packages (from ipython>=7.17.0->ipdb) (0.2.0)\n",
            "Requirement already satisfied: traitlets>=4.2 in /usr/local/lib/python3.7/dist-packages (from ipython>=7.17.0->ipdb) (5.1.1)\n",
            "Requirement already satisfied: prompt-toolkit!=3.0.0,!=3.0.1,<3.1.0,>=2.0.0 in /usr/local/lib/python3.7/dist-packages (from ipython>=7.17.0->ipdb) (3.0.29)\n",
            "Requirement already satisfied: pickleshare in /usr/local/lib/python3.7/dist-packages (from ipython>=7.17.0->ipdb) (0.7.5)\n",
            "Requirement already satisfied: matplotlib-inline in /usr/local/lib/python3.7/dist-packages (from ipython>=7.17.0->ipdb) (0.1.3)\n",
            "Requirement already satisfied: parso<0.9.0,>=0.8.0 in /usr/local/lib/python3.7/dist-packages (from jedi>=0.16->ipython>=7.17.0->ipdb) (0.8.3)\n",
            "Requirement already satisfied: ptyprocess>=0.5 in /usr/local/lib/python3.7/dist-packages (from pexpect>4.3->ipython>=7.17.0->ipdb) (0.7.0)\n",
            "Requirement already satisfied: wcwidth in /usr/local/lib/python3.7/dist-packages (from prompt-toolkit!=3.0.0,!=3.0.1,<3.1.0,>=2.0.0->ipython>=7.17.0->ipdb) (0.2.5)\n"
          ]
        }
      ]
    },
    {
      "cell_type": "code",
      "source": [
        "!apt -h"
      ],
      "metadata": {
        "colab": {
          "base_uri": "https://localhost:8080/"
        },
        "id": "kPxZRQbXlWAK",
        "outputId": "680671a9-06bb-4ba0-c654-5d60324271de"
      },
      "execution_count": 9,
      "outputs": [
        {
          "output_type": "stream",
          "name": "stdout",
          "text": [
            "apt 1.6.14 (amd64)\n",
            "Usage: apt [options] command\n",
            "\n",
            "apt is a commandline package manager and provides commands for\n",
            "searching and managing as well as querying information about packages.\n",
            "It provides the same functionality as the specialized APT tools,\n",
            "like apt-get and apt-cache, but enables options more suitable for\n",
            "interactive use by default.\n",
            "\n",
            "Most used commands:\n",
            "  list - list packages based on package names\n",
            "  search - search in package descriptions\n",
            "  show - show package details\n",
            "  install - install packages\n",
            "  remove - remove packages\n",
            "  autoremove - Remove automatically all unused packages\n",
            "  update - update list of available packages\n",
            "  upgrade - upgrade the system by installing/upgrading packages\n",
            "  full-upgrade - upgrade the system by removing/installing/upgrading packages\n",
            "  edit-sources - edit the source information file\n",
            "\n",
            "See apt(8) for more information about the available commands.\n",
            "Configuration options and syntax is detailed in apt.conf(5).\n",
            "Information about how to configure sources can be found in sources.list(5).\n",
            "Package and version choices can be expressed via apt_preferences(5).\n",
            "Security details are available in apt-secure(8).\n",
            "                                        This APT has Super Cow Powers.\n"
          ]
        }
      ]
    },
    {
      "cell_type": "code",
      "source": [
        "!apt -q install -y libfluidsynth1"
      ],
      "metadata": {
        "colab": {
          "base_uri": "https://localhost:8080/"
        },
        "id": "ba3cDwGJlxhD",
        "outputId": "fd325fb6-e845-496b-dba4-e001ad69c52e"
      },
      "execution_count": 10,
      "outputs": [
        {
          "output_type": "stream",
          "name": "stdout",
          "text": [
            "Reading package lists...\n",
            "Building dependency tree...\n",
            "Reading state information...\n",
            "The following package was automatically installed and is no longer required:\n",
            "  libnvidia-common-460\n",
            "Use 'apt autoremove' to remove it.\n",
            "Suggested packages:\n",
            "  fluidr3mono-gm-soundfont | timgm6mb-soundfont | fluid-soundfont-gm\n",
            "The following NEW packages will be installed:\n",
            "  libfluidsynth1\n",
            "0 upgraded, 1 newly installed, 0 to remove and 45 not upgraded.\n",
            "Need to get 137 kB of archives.\n",
            "After this operation, 414 kB of additional disk space will be used.\n",
            "Get:1 http://archive.ubuntu.com/ubuntu bionic/universe amd64 libfluidsynth1 amd64 1.1.9-1 [137 kB]\n",
            "Fetched 137 kB in 1s (258 kB/s)\n",
            "Selecting previously unselected package libfluidsynth1:amd64.\n",
            "(Reading database ... 155632 files and directories currently installed.)\n",
            "Preparing to unpack .../libfluidsynth1_1.1.9-1_amd64.deb ...\n",
            "Unpacking libfluidsynth1:amd64 (1.1.9-1) ...\n",
            "Setting up libfluidsynth1:amd64 (1.1.9-1) ...\n",
            "Processing triggers for libc-bin (2.27-3ubuntu1.3) ...\n",
            "/sbin/ldconfig.real: /usr/local/lib/python3.7/dist-packages/ideep4py/lib/libmkldnn.so.0 is not a symbolic link\n",
            "\n"
          ]
        }
      ]
    },
    {
      "cell_type": "code",
      "source": [
        "!apt -qq install libarchive-dev"
      ],
      "metadata": {
        "colab": {
          "base_uri": "https://localhost:8080/"
        },
        "id": "osUkNDUEmRtc",
        "outputId": "8a98cda5-6b9f-4424-c171-4f69c274142b"
      },
      "execution_count": 13,
      "outputs": [
        {
          "output_type": "stream",
          "name": "stdout",
          "text": [
            "The following package was automatically installed and is no longer required:\n",
            "  libnvidia-common-460\n",
            "Use 'apt autoremove' to remove it.\n",
            "The following NEW packages will be installed:\n",
            "  libarchive-dev\n",
            "0 upgraded, 1 newly installed, 0 to remove and 45 not upgraded.\n",
            "Need to get 470 kB of archives.\n",
            "After this operation, 1,625 kB of additional disk space will be used.\n",
            "Selecting previously unselected package libarchive-dev:amd64.\n",
            "(Reading database ... 155637 files and directories currently installed.)\n",
            "Preparing to unpack .../libarchive-dev_3.2.2-3.1ubuntu0.7_amd64.deb ...\n",
            "Unpacking libarchive-dev:amd64 (3.2.2-3.1ubuntu0.7) ...\n",
            "Setting up libarchive-dev:amd64 (3.2.2-3.1ubuntu0.7) ...\n",
            "Processing triggers for man-db (2.8.3-2ubuntu0.1) ...\n"
          ]
        }
      ]
    },
    {
      "cell_type": "markdown",
      "source": [
        "## Mounting GDrive locally"
      ],
      "metadata": {
        "id": "dlrV5edJmkvW"
      }
    },
    {
      "cell_type": "code",
      "source": [
        "from google.colab import drive\n",
        "drive.mount(\"/content/drive\")"
      ],
      "metadata": {
        "colab": {
          "base_uri": "https://localhost:8080/"
        },
        "id": "yjGVvb8kph3v",
        "outputId": "03be2d39-334b-4c26-fb6a-80334d1ba4e2"
      },
      "execution_count": 24,
      "outputs": [
        {
          "output_type": "stream",
          "name": "stdout",
          "text": [
            "Mounted at /content/drive\n"
          ]
        }
      ]
    },
    {
      "cell_type": "code",
      "source": [
        "import os"
      ],
      "metadata": {
        "id": "GyDDDNi_qHI8"
      },
      "execution_count": 15,
      "outputs": []
    },
    {
      "cell_type": "code",
      "source": [
        "print(os.listdir())"
      ],
      "metadata": {
        "colab": {
          "base_uri": "https://localhost:8080/"
        },
        "id": "6dGUZq57qI6e",
        "outputId": "68595062-0ab3-47d0-c71b-4f1c7e480460"
      },
      "execution_count": 17,
      "outputs": [
        {
          "output_type": "stream",
          "name": "stdout",
          "text": [
            "['.config', 'drive', 'sample_data']\n"
          ]
        }
      ]
    },
    {
      "cell_type": "code",
      "source": [
        "!ls -al sample_data"
      ],
      "metadata": {
        "colab": {
          "base_uri": "https://localhost:8080/"
        },
        "id": "YejBD8a-qLRg",
        "outputId": "68dc3f4c-fbaa-40d6-fee4-5906d7ad54f7"
      },
      "execution_count": 19,
      "outputs": [
        {
          "output_type": "stream",
          "name": "stdout",
          "text": [
            "total 55512\n",
            "drwxr-xr-x 1 root root     4096 Jun  1 13:50 .\n",
            "drwxr-xr-x 1 root root     4096 Jun 15 18:37 ..\n",
            "-rwxr-xr-x 1 root root     1697 Jan  1  2000 anscombe.json\n",
            "-rw-r--r-- 1 root root   301141 Jun  1 13:50 california_housing_test.csv\n",
            "-rw-r--r-- 1 root root  1706430 Jun  1 13:50 california_housing_train.csv\n",
            "-rw-r--r-- 1 root root 18289443 Jun  1 13:50 mnist_test.csv\n",
            "-rw-r--r-- 1 root root 36523880 Jun  1 13:50 mnist_train_small.csv\n",
            "-rwxr-xr-x 1 root root      930 Jan  1  2000 README.md\n"
          ]
        }
      ]
    },
    {
      "cell_type": "code",
      "source": [
        "!ls -al drive/MyDrive"
      ],
      "metadata": {
        "colab": {
          "base_uri": "https://localhost:8080/"
        },
        "id": "dcI-lKF7qgHo",
        "outputId": "bf926c52-6079-4cdf-cc48-afb2c373708f"
      },
      "execution_count": 25,
      "outputs": [
        {
          "output_type": "stream",
          "name": "stdout",
          "text": [
            "total 10510\n",
            "-rw------- 1 root root   35112 Oct 22  2019  191022_RK.docx\n",
            "drwx------ 2 root root    4096 Jun  2  2021 '2004-2010 MEPhI'\n",
            "-rw------- 1 root root 1304932 Apr  3  2018  20180310_162926.jpg\n",
            "drwx------ 2 root root    4096 Apr 27  2021 '2019 RWTH'\n",
            "-rw------- 1 root root     143 May 24 10:38 '2020-08-08 Portfolio ALFA.gsheet'\n",
            "-rw------- 1 root root     143 Mar  2  2021 '2021-03-02 Rsquared.gsheet'\n",
            "-rw------- 1 root root     143 Mar 29  2021 '2021-03 Antalya, TK.gsheet'\n",
            "-rw------- 1 root root     143 Jan 21 12:24 '2022-01-02 Dock.gsheet'\n",
            "-rw------- 1 root root     143 May 27 09:58 '2022-05-27 Alfa.gsheet'\n",
            "-rw------- 1 root root     143 May 28 08:46 '2022-05-28 Keyboard latency.gsheet'\n",
            "drwx------ 2 root root    4096 Jul  2  2019 'Colab Notebooks'\n",
            "-rw------- 1 root root     143 Apr 27  2021 'Deutschkurs B2.2 Trier.gslides'\n",
            "drwx------ 2 root root    4096 Jun  2  2021 'Deutsch mit Yehor'\n",
            "-rw------- 1 root root     143 Mar 29  2014  Dmitry_Kabanov_hotel.doc.gdoc\n",
            "-rw------- 1 root root   38384 Oct 22  2019  Endabrechnung.docx\n",
            "drwx------ 2 root root    4096 Nov 19  2019 'Grammatik Aktiv A1-B1'\n",
            "-rw------- 1 root root 1344967 Apr 13  2015 'Hail Itinerary.docx'\n",
            "drwx------ 2 root root    4096 Oct 14  2021  Health\n",
            "-rw------- 1 root root   31744 Mar 29  2014  hotel2014.doc\n",
            "-rw------- 1 root root     143 Mar 13  2014 'Ilya, Amazon, Shipito.gsheet'\n",
            "drwx------ 2 root root    4096 Aug  7  2014  KAUST\n",
            "-rw------- 1 root root     143 Jan 21  2018 'Personal Balance Sheet.gsheet'\n",
            "-rw------- 1 root root     143 Jul 26  2018 'Phase 5 Left over Materials-Equipments.gsheet'\n",
            "-rw------- 1 root root 1185127 Jul 26  2018 'Phase 5 Left over Materials-Equipments.xlsx'\n",
            "-rw------- 1 root root   71228 Oct 22  2019  RK+Endabrechnung+fuer+Dienstreisen-dotx.dotx\n",
            "-rw------- 1 root root     143 Oct 22  2019  RK+Endabrechnung+fuer+Dienstreisen-dotx.gdoc\n",
            "-rw------- 1 root root     143 Jan  4  2018  Smartphone2018.gsheet\n",
            "-rw------- 1 root root     143 May  5  2012 'TOEFL Preparation.doc.gdoc'\n",
            "drwx------ 2 root root    4096 Nov  8  2016  vocal\n",
            "-rw------- 1 root root 6500186 May 14  2018 'WhatsApp Chat - Вжбаним? .zip'\n",
            "-rw------- 1 root root  116374 Feb  3  2017  Where_is_the_love.pdf\n",
            "-rw------- 1 root root   23032 Nov  8  2019  ИПР-Дима-Кабанов.docx\n",
            "-rw------- 1 root root   53248 Dec 25  2013 'Кабанов ДИ 241213_мрт гс.doc'\n",
            "-rw------- 1 root root     143 Mar 22  2016 'Лекарства от Веры, 2016-03-22.gsheet'\n",
            "-rw------- 1 root root     143 Aug 15  2020 'Облигации доходность.gsheet'\n",
            "-rw------- 1 root root     143 Mar 15  2014 'Оплата медицинских услуг, Одыванов, 2013, ноябрь-декабрь.gsheet'\n",
            "-rw------- 1 root root     143 Dec 16  2011 'Предзаказ в Квартире 44 на моё 25-летие.gdoc'\n",
            "-rw------- 1 root root   13444 Nov 21  2019 'Приложение 2.docx'\n",
            "-rw------- 1 root root     143 Jan  2  2018 'Тинькофф Таблица.gsheet'\n"
          ]
        }
      ]
    },
    {
      "cell_type": "code",
      "source": [
        "drive.flush_and_unmount()"
      ],
      "metadata": {
        "id": "UP1JoS2cqu-H"
      },
      "execution_count": 22,
      "outputs": []
    },
    {
      "cell_type": "code",
      "source": [
        "!pip install dvc"
      ],
      "metadata": {
        "colab": {
          "base_uri": "https://localhost:8080/",
          "height": 1000
        },
        "id": "7d2iXot_sBA9",
        "outputId": "79279ba5-57f0-404a-aeb8-dc466711e18e"
      },
      "execution_count": 28,
      "outputs": [
        {
          "output_type": "stream",
          "name": "stdout",
          "text": [
            "Looking in indexes: https://pypi.org/simple, https://us-python.pkg.dev/colab-wheels/public/simple/\n",
            "Collecting dvc\n",
            "  Downloading dvc-2.10.2-py3-none-any.whl (401 kB)\n",
            "\u001b[K     |████████████████████████████████| 401 kB 5.2 MB/s \n",
            "\u001b[?25hRequirement already satisfied: requests>=2.22.0 in /usr/local/lib/python3.7/dist-packages (from dvc) (2.23.0)\n",
            "Collecting shortuuid>=0.5.0\n",
            "  Downloading shortuuid-1.0.9-py3-none-any.whl (9.4 kB)\n",
            "Requirement already satisfied: appdirs>=1.4.3 in /usr/local/lib/python3.7/dist-packages (from dvc) (1.4.4)\n",
            "Collecting grandalf==0.6\n",
            "  Downloading grandalf-0.6-py3-none-any.whl (31 kB)\n",
            "Collecting configobj>=5.0.6\n",
            "  Downloading configobj-5.0.6.tar.gz (33 kB)\n",
            "Requirement already satisfied: importlib-metadata>=1.4 in /usr/local/lib/python3.7/dist-packages (from dvc) (4.11.4)\n",
            "Collecting flufl.lock>=5\n",
            "  Downloading flufl.lock-7.0-py3-none-any.whl (11 kB)\n",
            "Collecting fsspec[http]>=2021.10.1\n",
            "  Downloading fsspec-2022.5.0-py3-none-any.whl (140 kB)\n",
            "\u001b[K     |████████████████████████████████| 140 kB 55.4 MB/s \n",
            "\u001b[?25hRequirement already satisfied: networkx>=2.5 in /usr/local/lib/python3.7/dist-packages (from dvc) (2.6.3)\n",
            "Requirement already satisfied: packaging>=19.0 in /usr/local/lib/python3.7/dist-packages (from dvc) (21.3)\n",
            "Collecting dictdiffer>=0.8.1\n",
            "  Downloading dictdiffer-0.9.0-py2.py3-none-any.whl (16 kB)\n",
            "Collecting flatten-dict<1,>=0.4.1\n",
            "  Downloading flatten_dict-0.4.2-py2.py3-none-any.whl (9.7 kB)\n",
            "Collecting dvclive>=0.7.3\n",
            "  Downloading dvclive-0.9.0-py2.py3-none-any.whl (32 kB)\n",
            "Collecting funcy>=1.14\n",
            "  Downloading funcy-1.17-py2.py3-none-any.whl (33 kB)\n",
            "Collecting voluptuous>=0.11.7\n",
            "  Downloading voluptuous-0.13.1-py3-none-any.whl (29 kB)\n",
            "Requirement already satisfied: tqdm<5,>=4.63.1 in /usr/local/lib/python3.7/dist-packages (from dvc) (4.64.0)\n",
            "Collecting diskcache>=5.2.1\n",
            "  Downloading diskcache-5.4.0-py3-none-any.whl (44 kB)\n",
            "\u001b[K     |████████████████████████████████| 44 kB 3.3 MB/s \n",
            "\u001b[?25hRequirement already satisfied: typing-extensions>=3.7.4 in /usr/local/lib/python3.7/dist-packages (from dvc) (4.2.0)\n",
            "Collecting psutil>=5.8.0\n",
            "  Downloading psutil-5.9.1-cp37-cp37m-manylinux_2_12_x86_64.manylinux2010_x86_64.manylinux_2_17_x86_64.manylinux2014_x86_64.whl (281 kB)\n",
            "\u001b[K     |████████████████████████████████| 281 kB 65.7 MB/s \n",
            "\u001b[?25hCollecting pygtrie>=2.3.2\n",
            "  Downloading pygtrie-2.4.2.tar.gz (35 kB)\n",
            "Collecting nanotime>=0.5.2\n",
            "  Downloading nanotime-0.5.2.tar.gz (3.2 kB)\n",
            "Collecting aiohttp-retry>=2.4.5\n",
            "  Downloading aiohttp_retry-2.4.6-py3-none-any.whl (7.7 kB)\n",
            "Collecting dvc-render==0.0.5\n",
            "  Downloading dvc_render-0.0.5-py3-none-any.whl (15 kB)\n",
            "Collecting zc.lockfile>=1.2.1\n",
            "  Downloading zc.lockfile-2.0-py2.py3-none-any.whl (9.7 kB)\n",
            "Collecting dpath<3,>=2.0.2\n",
            "  Downloading dpath-2.0.6-py3-none-any.whl (15 kB)\n",
            "Requirement already satisfied: pydot>=1.2.4 in /usr/local/lib/python3.7/dist-packages (from dvc) (1.3.0)\n",
            "Requirement already satisfied: tabulate>=0.8.7 in /usr/local/lib/python3.7/dist-packages (from dvc) (0.8.9)\n",
            "Collecting scmrepo==0.0.19\n",
            "  Downloading scmrepo-0.0.19-py3-none-any.whl (40 kB)\n",
            "\u001b[K     |████████████████████████████████| 40 kB 5.8 MB/s \n",
            "\u001b[?25hCollecting python-benedict>=0.24.2\n",
            "  Downloading python_benedict-0.25.1-py3-none-any.whl (41 kB)\n",
            "\u001b[K     |████████████████████████████████| 41 kB 359 kB/s \n",
            "\u001b[?25hRequirement already satisfied: pyparsing>=2.4.7 in /usr/local/lib/python3.7/dist-packages (from dvc) (3.0.9)\n",
            "Collecting shtab<2,>=1.3.4\n",
            "  Downloading shtab-1.5.4-py2.py3-none-any.whl (13 kB)\n",
            "Collecting rich>=10.13.0\n",
            "  Downloading rich-12.4.4-py3-none-any.whl (232 kB)\n",
            "\u001b[K     |████████████████████████████████| 232 kB 54.8 MB/s \n",
            "\u001b[?25hCollecting distro>=1.3.0\n",
            "  Downloading distro-1.7.0-py3-none-any.whl (20 kB)\n",
            "Collecting ruamel.yaml>=0.17.11\n",
            "  Downloading ruamel.yaml-0.17.21-py3-none-any.whl (109 kB)\n",
            "\u001b[K     |████████████████████████████████| 109 kB 59.6 MB/s \n",
            "\u001b[?25hRequirement already satisfied: importlib-resources>=5.2.2 in /usr/local/lib/python3.7/dist-packages (from dvc) (5.7.1)\n",
            "Requirement already satisfied: toml>=0.10.1 in /usr/local/lib/python3.7/dist-packages (from dvc) (0.10.2)\n",
            "Collecting colorama>=0.3.9\n",
            "  Downloading colorama-0.4.4-py2.py3-none-any.whl (16 kB)\n",
            "Collecting pathspec<0.10.0,>=0.9.0\n",
            "  Downloading pathspec-0.9.0-py2.py3-none-any.whl (31 kB)\n",
            "Requirement already satisfied: future in /usr/local/lib/python3.7/dist-packages (from grandalf==0.6->dvc) (0.16.0)\n",
            "Collecting asyncssh<3,>=2.7.1\n",
            "  Downloading asyncssh-2.11.0-py3-none-any.whl (343 kB)\n",
            "\u001b[K     |████████████████████████████████| 343 kB 54.9 MB/s \n",
            "\u001b[?25hCollecting dulwich>=0.20.34\n",
            "  Downloading dulwich-0.20.43-cp37-cp37m-manylinux_2_5_x86_64.manylinux1_x86_64.manylinux_2_12_x86_64.manylinux2010_x86_64.whl (552 kB)\n",
            "\u001b[K     |████████████████████████████████| 552 kB 49.7 MB/s \n",
            "\u001b[?25hCollecting pygit2>=1.7.2\n",
            "  Downloading pygit2-1.9.2-cp37-cp37m-manylinux_2_17_x86_64.manylinux2014_x86_64.whl (4.5 MB)\n",
            "\u001b[K     |████████████████████████████████| 4.5 MB 52.0 MB/s \n",
            "\u001b[?25hCollecting gitpython>3\n",
            "  Downloading GitPython-3.1.27-py3-none-any.whl (181 kB)\n",
            "\u001b[K     |████████████████████████████████| 181 kB 41.0 MB/s \n",
            "\u001b[?25hCollecting aiohttp\n",
            "  Downloading aiohttp-3.8.1-cp37-cp37m-manylinux_2_5_x86_64.manylinux1_x86_64.manylinux_2_12_x86_64.manylinux2010_x86_64.whl (1.1 MB)\n",
            "\u001b[K     |████████████████████████████████| 1.1 MB 48.7 MB/s \n",
            "\u001b[?25hCollecting cryptography>=3.1\n",
            "  Downloading cryptography-37.0.2-cp36-abi3-manylinux_2_24_x86_64.whl (4.0 MB)\n",
            "\u001b[K     |████████████████████████████████| 4.0 MB 43.2 MB/s \n",
            "\u001b[?25hRequirement already satisfied: six in /usr/local/lib/python3.7/dist-packages (from configobj>=5.0.6->dvc) (1.15.0)\n",
            "Requirement already satisfied: cffi>=1.12 in /usr/local/lib/python3.7/dist-packages (from cryptography>=3.1->asyncssh<3,>=2.7.1->scmrepo==0.0.19->dvc) (1.15.0)\n",
            "Requirement already satisfied: pycparser in /usr/local/lib/python3.7/dist-packages (from cffi>=1.12->cryptography>=3.1->asyncssh<3,>=2.7.1->scmrepo==0.0.19->dvc) (2.21)\n",
            "Requirement already satisfied: certifi in /usr/local/lib/python3.7/dist-packages (from dulwich>=0.20.34->scmrepo==0.0.19->dvc) (2022.5.18.1)\n",
            "Requirement already satisfied: urllib3>=1.24.1 in /usr/local/lib/python3.7/dist-packages (from dulwich>=0.20.34->scmrepo==0.0.19->dvc) (1.24.3)\n",
            "Collecting atpublic>=2.3\n",
            "  Downloading atpublic-3.0.1-py3-none-any.whl (4.8 kB)\n",
            "Collecting gitdb<5,>=4.0.1\n",
            "  Downloading gitdb-4.0.9-py3-none-any.whl (63 kB)\n",
            "\u001b[K     |████████████████████████████████| 63 kB 1.7 MB/s \n",
            "\u001b[?25hCollecting smmap<6,>=3.0.1\n",
            "  Downloading smmap-5.0.0-py3-none-any.whl (24 kB)\n",
            "Requirement already satisfied: zipp>=0.5 in /usr/local/lib/python3.7/dist-packages (from importlib-metadata>=1.4->dvc) (3.8.0)\n",
            "Requirement already satisfied: cached-property in /usr/local/lib/python3.7/dist-packages (from pygit2>=1.7.2->scmrepo==0.0.19->dvc) (1.5.2)\n",
            "Collecting pyyaml<7.0,>=6.0\n",
            "  Downloading PyYAML-6.0-cp37-cp37m-manylinux_2_5_x86_64.manylinux1_x86_64.manylinux_2_12_x86_64.manylinux2010_x86_64.whl (596 kB)\n",
            "\u001b[K     |████████████████████████████████| 596 kB 39.8 MB/s \n",
            "\u001b[?25hCollecting xmltodict<1.0.0,>=0.12.0\n",
            "  Downloading xmltodict-0.13.0-py2.py3-none-any.whl (10.0 kB)\n",
            "Collecting phonenumbers<9.0.0,>=8.12.0\n",
            "  Downloading phonenumbers-8.12.50-py2.py3-none-any.whl (2.6 MB)\n",
            "\u001b[K     |████████████████████████████████| 2.6 MB 54.4 MB/s \n",
            "\u001b[?25hCollecting requests>=2.22.0\n",
            "  Downloading requests-2.28.0-py3-none-any.whl (62 kB)\n",
            "\u001b[K     |████████████████████████████████| 62 kB 1.4 MB/s \n",
            "\u001b[?25hCollecting python-fsutil<1.0.0,>=0.6.0\n",
            "  Downloading python_fsutil-0.6.1-py3-none-any.whl (12 kB)\n",
            "Requirement already satisfied: python-slugify<7.0.0,>=6.0.1 in /usr/local/lib/python3.7/dist-packages (from python-benedict>=0.24.2->dvc) (6.1.2)\n",
            "Requirement already satisfied: python-dateutil<3.0.0,>=2.8.0 in /usr/local/lib/python3.7/dist-packages (from python-benedict>=0.24.2->dvc) (2.8.2)\n",
            "Collecting mailchecker<5.0.0,>=4.1.0\n",
            "  Downloading mailchecker-4.1.17.tar.gz (232 kB)\n",
            "\u001b[K     |████████████████████████████████| 232 kB 3.1 MB/s \n",
            "\u001b[?25hCollecting ftfy<7.0.0,>=6.0.0\n",
            "  Downloading ftfy-6.1.1-py3-none-any.whl (53 kB)\n",
            "\u001b[K     |████████████████████████████████| 53 kB 1.9 MB/s \n",
            "\u001b[?25hRequirement already satisfied: wcwidth>=0.2.5 in /usr/local/lib/python3.7/dist-packages (from ftfy<7.0.0,>=6.0.0->python-benedict>=0.24.2->dvc) (0.2.5)\n",
            "Requirement already satisfied: text-unidecode>=1.3 in /usr/local/lib/python3.7/dist-packages (from python-slugify<7.0.0,>=6.0.1->python-benedict>=0.24.2->dvc) (1.3)\n",
            "Requirement already satisfied: charset-normalizer~=2.0.0 in /usr/local/lib/python3.7/dist-packages (from requests>=2.22.0->dvc) (2.0.12)\n",
            "Requirement already satisfied: idna<4,>=2.5 in /usr/local/lib/python3.7/dist-packages (from requests>=2.22.0->dvc) (2.10)\n",
            "Requirement already satisfied: pygments<3.0.0,>=2.6.0 in /usr/local/lib/python3.7/dist-packages (from rich>=10.13.0->dvc) (2.6.1)\n",
            "Collecting commonmark<0.10.0,>=0.9.0\n",
            "  Downloading commonmark-0.9.1-py2.py3-none-any.whl (51 kB)\n",
            "\u001b[K     |████████████████████████████████| 51 kB 6.2 MB/s \n",
            "\u001b[?25hCollecting ruamel.yaml.clib>=0.2.6\n",
            "  Downloading ruamel.yaml.clib-0.2.6-cp37-cp37m-manylinux1_x86_64.whl (546 kB)\n",
            "\u001b[K     |████████████████████████████████| 546 kB 40.5 MB/s \n",
            "\u001b[?25hRequirement already satisfied: setuptools in /usr/local/lib/python3.7/dist-packages (from zc.lockfile>=1.2.1->dvc) (57.4.0)\n",
            "Collecting aiosignal>=1.1.2\n",
            "  Downloading aiosignal-1.2.0-py3-none-any.whl (8.2 kB)\n",
            "Collecting yarl<2.0,>=1.0\n",
            "  Downloading yarl-1.7.2-cp37-cp37m-manylinux_2_5_x86_64.manylinux1_x86_64.manylinux_2_12_x86_64.manylinux2010_x86_64.whl (271 kB)\n",
            "\u001b[K     |████████████████████████████████| 271 kB 72.5 MB/s \n",
            "\u001b[?25hCollecting async-timeout<5.0,>=4.0.0a3\n",
            "  Downloading async_timeout-4.0.2-py3-none-any.whl (5.8 kB)\n",
            "Collecting multidict<7.0,>=4.5\n",
            "  Downloading multidict-6.0.2-cp37-cp37m-manylinux_2_17_x86_64.manylinux2014_x86_64.whl (94 kB)\n",
            "\u001b[K     |████████████████████████████████| 94 kB 3.3 MB/s \n",
            "\u001b[?25hCollecting asynctest==0.13.0\n",
            "  Downloading asynctest-0.13.0-py3-none-any.whl (26 kB)\n",
            "Collecting frozenlist>=1.1.1\n",
            "  Downloading frozenlist-1.3.0-cp37-cp37m-manylinux_2_5_x86_64.manylinux1_x86_64.manylinux_2_17_x86_64.manylinux2014_x86_64.whl (144 kB)\n",
            "\u001b[K     |████████████████████████████████| 144 kB 73.2 MB/s \n",
            "\u001b[?25hRequirement already satisfied: attrs>=17.3.0 in /usr/local/lib/python3.7/dist-packages (from aiohttp->aiohttp-retry>=2.4.5->dvc) (21.4.0)\n",
            "Building wheels for collected packages: configobj, nanotime, pygtrie, mailchecker\n",
            "  Building wheel for configobj (setup.py) ... \u001b[?25l\u001b[?25hdone\n",
            "  Created wheel for configobj: filename=configobj-5.0.6-py3-none-any.whl size=34547 sha256=9e9392bae4c5d6355ba649d5997a1662b53ba57b4b342c9328219f2a516bab26\n",
            "  Stored in directory: /root/.cache/pip/wheels/0d/c4/19/13d74440f2a571841db6b6e0a273694327498884dafb9cf978\n",
            "  Building wheel for nanotime (setup.py) ... \u001b[?25l\u001b[?25hdone\n",
            "  Created wheel for nanotime: filename=nanotime-0.5.2-py3-none-any.whl size=2441 sha256=45a9d1113e6140a37ec095c6d9aa7f31a7b3ce6e8016ccbc2feb0e22e232f746\n",
            "  Stored in directory: /root/.cache/pip/wheels/b8/92/aa/456d462c908b4e210c3928f778d28f94049fc9e47af8b191c9\n",
            "  Building wheel for pygtrie (setup.py) ... \u001b[?25l\u001b[?25hdone\n",
            "  Created wheel for pygtrie: filename=pygtrie-2.4.2-py3-none-any.whl size=19063 sha256=851863c2686941684ba756c39ee0e2f60a9012a32accb45e93442e34292822ac\n",
            "  Stored in directory: /root/.cache/pip/wheels/d3/f8/ba/1d828b1603ea422686eb694253a43cb3a5901ea4696c1e0603\n",
            "  Building wheel for mailchecker (setup.py) ... \u001b[?25l\u001b[?25hdone\n",
            "  Created wheel for mailchecker: filename=mailchecker-4.1.17-py3-none-any.whl size=232921 sha256=2efe36fbca41d6a6ece5d1bb4ab42915cdd79f2b631326c8cf978d72c24a0271\n",
            "  Stored in directory: /root/.cache/pip/wheels/62/34/d5/21a0829a95aec844a36606f113b607b6ed82f7148cb3f4a5a9\n",
            "Successfully built configobj nanotime pygtrie mailchecker\n",
            "Installing collected packages: smmap, multidict, frozenlist, yarl, gitdb, funcy, cryptography, asynctest, async-timeout, aiosignal, xmltodict, ruamel.yaml.clib, requests, pyyaml, python-fsutil, pygtrie, pygit2, psutil, phonenumbers, pathspec, mailchecker, gitpython, ftfy, fsspec, dvc-render, dulwich, commonmark, atpublic, asyncssh, aiohttp, zc.lockfile, voluptuous, shtab, shortuuid, scmrepo, ruamel.yaml, rich, python-benedict, nanotime, grandalf, flufl.lock, flatten-dict, dvclive, dpath, distro, diskcache, dictdiffer, configobj, colorama, aiohttp-retry, dvc\n",
            "  Attempting uninstall: requests\n",
            "    Found existing installation: requests 2.23.0\n",
            "    Uninstalling requests-2.23.0:\n",
            "      Successfully uninstalled requests-2.23.0\n",
            "  Attempting uninstall: pyyaml\n",
            "    Found existing installation: PyYAML 3.13\n",
            "    Uninstalling PyYAML-3.13:\n",
            "      Successfully uninstalled PyYAML-3.13\n",
            "  Attempting uninstall: psutil\n",
            "    Found existing installation: psutil 5.4.8\n",
            "    Uninstalling psutil-5.4.8:\n",
            "      Successfully uninstalled psutil-5.4.8\n",
            "\u001b[31mERROR: pip's dependency resolver does not currently take into account all the packages that are installed. This behaviour is the source of the following dependency conflicts.\n",
            "google-colab 1.0.0 requires ipython~=5.5.0, but you have ipython 7.34.0 which is incompatible.\n",
            "google-colab 1.0.0 requires requests~=2.23.0, but you have requests 2.28.0 which is incompatible.\n",
            "datascience 0.10.6 requires folium==0.2.1, but you have folium 0.8.3 which is incompatible.\u001b[0m\n",
            "Successfully installed aiohttp-3.8.1 aiohttp-retry-2.4.6 aiosignal-1.2.0 async-timeout-4.0.2 asyncssh-2.11.0 asynctest-0.13.0 atpublic-3.0.1 colorama-0.4.4 commonmark-0.9.1 configobj-5.0.6 cryptography-37.0.2 dictdiffer-0.9.0 diskcache-5.4.0 distro-1.7.0 dpath-2.0.6 dulwich-0.20.43 dvc-2.10.2 dvc-render-0.0.5 dvclive-0.9.0 flatten-dict-0.4.2 flufl.lock-7.0 frozenlist-1.3.0 fsspec-2022.5.0 ftfy-6.1.1 funcy-1.17 gitdb-4.0.9 gitpython-3.1.27 grandalf-0.6 mailchecker-4.1.17 multidict-6.0.2 nanotime-0.5.2 pathspec-0.9.0 phonenumbers-8.12.50 psutil-5.9.1 pygit2-1.9.2 pygtrie-2.4.2 python-benedict-0.25.1 python-fsutil-0.6.1 pyyaml-6.0 requests-2.28.0 rich-12.4.4 ruamel.yaml-0.17.21 ruamel.yaml.clib-0.2.6 scmrepo-0.0.19 shortuuid-1.0.9 shtab-1.5.4 smmap-5.0.0 voluptuous-0.13.1 xmltodict-0.13.0 yarl-1.7.2 zc.lockfile-2.0\n"
          ]
        },
        {
          "output_type": "display_data",
          "data": {
            "application/vnd.colab-display-data+json": {
              "pip_warning": {
                "packages": [
                  "psutil",
                  "requests"
                ]
              }
            }
          },
          "metadata": {}
        }
      ]
    },
    {
      "cell_type": "code",
      "source": [
        "!dvc --version"
      ],
      "metadata": {
        "colab": {
          "base_uri": "https://localhost:8080/"
        },
        "id": "fq-bpyyiuSPc",
        "outputId": "b65e3b0c-8fa2-497c-e270-69499789fb76"
      },
      "execution_count": 30,
      "outputs": [
        {
          "output_type": "stream",
          "name": "stdout",
          "text": [
            "2.10.2\n",
            "\u001b[0m"
          ]
        }
      ]
    },
    {
      "cell_type": "code",
      "source": [
        "!dvc -h"
      ],
      "metadata": {
        "colab": {
          "base_uri": "https://localhost:8080/"
        },
        "id": "TeEsmizhuUmv",
        "outputId": "50f74bed-5b3d-4f7c-8d7c-872e174726e3"
      },
      "execution_count": 31,
      "outputs": [
        {
          "output_type": "stream",
          "name": "stdout",
          "text": [
            "usage: dvc [-q | -v] [-h] [-V] [--cd <path>] COMMAND ...\n",
            "\n",
            "Data Version Control\n",
            "\n",
            "optional arguments:\n",
            "  -q, --quiet        Be quiet.\n",
            "  -v, --verbose      Be verbose.\n",
            "  -h, --help         Show this help message and exit.\n",
            "  -V, --version      Show program's version.\n",
            "  --cd <path>        Change to directory before executing.\n",
            "\n",
            "Available Commands:\n",
            "  COMMAND            Use `dvc COMMAND --help` for command-specific help.\n",
            "    init             Initialize DVC in the current directory.\n",
            "    get              Download file or directory tracked by DVC or by Git.\n",
            "    get-url          Download or copy files from URL.\n",
            "    destroy          Remove DVC files, local DVC config and data cache.\n",
            "    add              Track data files or directories with DVC.\n",
            "    remove           Remove stages from dvc.yaml and/or stop tracking files or directories.\n",
            "    move             Rename or move a DVC controlled data file or a directory.\n",
            "    unprotect        Unprotect tracked files or directories (when hardlinks or symlinks have been enabled with `dvc config cache.type`).\n",
            "    run              Generate a dvc.yaml file from a command and execute the command.\n",
            "    repro            Reproduce complete or partial pipelines by executing their stages.\n",
            "    pull             Download tracked files or directories from remote storage.\n",
            "    push             Upload tracked files or directories to remote storage.\n",
            "    fetch            Download files or directories from remote storage to the cache.\n",
            "    status           Show changed stages, compare local cache and a remote storage.\n",
            "    gc               Garbage collect unused objects from cache or remote storage.\n",
            "    import           Download file or directory tracked by DVC or by Git into the workspace, and track it.\n",
            "    import-url       Download or copy file from URL and take it under DVC control.\n",
            "    config           Get or set config options.\n",
            "    checkout         Checkout data files from cache.\n",
            "    remote           Set up and manage data remotes.\n",
            "    cache            Manage cache settings.\n",
            "    metrics          Commands to display and compare metrics.\n",
            "    params           Commands to display params.\n",
            "    install          Install DVC git hooks into the repository.\n",
            "    root             Return the relative path to the root of the DVC project.\n",
            "    list (ls)        List repository contents, including files and directories tracked by DVC and by Git.\n",
            "    freeze           Freeze stages or .dvc files.\n",
            "    unfreeze         Unfreeze stages or .dvc files.\n",
            "    dag              Visualize DVC project DAG.\n",
            "    commit           Record changes to files or directories tracked by DVC by storing the current versions in the cache.\n",
            "    completion       Generate shell tab completion.\n",
            "    diff             Show added, modified, or deleted data between commits in the DVC repository, or between a commit and the workspace.\n",
            "    version (doctor)\n",
            "                     Display the DVC version and system/environment information.\n",
            "    update           Update data artifacts imported from other DVC repositories.\n",
            "    plots            Commands to visualize and compare plot metrics in structured files (JSON, YAML, CSV, TSV).\n",
            "    stage            Commands to list and create stages.\n",
            "    experiments (exp)\n",
            "                     Commands to run and compare experiments.\n",
            "    check-ignore     Check whether files or directories are excluded due to `.dvcignore`.\n",
            "\u001b[0m"
          ]
        }
      ]
    },
    {
      "cell_type": "code",
      "source": [
        "!pip -q install \"dvc[s3]\""
      ],
      "metadata": {
        "colab": {
          "base_uri": "https://localhost:8080/"
        },
        "id": "8SoO2y4ouYjK",
        "outputId": "3fe370d8-84c8-44b4-a22f-c411dfa199ed"
      },
      "execution_count": 33,
      "outputs": [
        {
          "output_type": "stream",
          "name": "stdout",
          "text": [
            "\u001b[K     |████████████████████████████████| 65 kB 2.3 MB/s \n",
            "\u001b[K     |████████████████████████████████| 8.6 MB 11.0 MB/s \n",
            "\u001b[K     |████████████████████████████████| 132 kB 57.6 MB/s \n",
            "\u001b[K     |████████████████████████████████| 79 kB 7.0 MB/s \n",
            "\u001b[K     |████████████████████████████████| 138 kB 51.1 MB/s \n",
            "\u001b[?25h  Building wheel for aiobotocore (setup.py) ... \u001b[?25l\u001b[?25hdone\n",
            "\u001b[31mERROR: pip's dependency resolver does not currently take into account all the packages that are installed. This behaviour is the source of the following dependency conflicts.\n",
            "google-colab 1.0.0 requires ipython~=5.5.0, but you have ipython 7.34.0 which is incompatible.\n",
            "google-colab 1.0.0 requires requests~=2.23.0, but you have requests 2.28.0 which is incompatible.\n",
            "datascience 0.10.6 requires folium==0.2.1, but you have folium 0.8.3 which is incompatible.\u001b[0m\n"
          ]
        }
      ]
    },
    {
      "cell_type": "code",
      "source": [
        "!cd drive/"
      ],
      "metadata": {
        "id": "l4I_h2zLut3B"
      },
      "execution_count": 35,
      "outputs": []
    },
    {
      "cell_type": "code",
      "source": [
        "%cd drive"
      ],
      "metadata": {
        "colab": {
          "base_uri": "https://localhost:8080/"
        },
        "id": "dItOf9fquw3b",
        "outputId": "0735c711-8c86-485e-9b8e-a7269283dacb"
      },
      "execution_count": 38,
      "outputs": [
        {
          "output_type": "stream",
          "name": "stdout",
          "text": [
            "[Errno 2] No such file or directory: 'drive'\n",
            "/content/drive\n"
          ]
        }
      ]
    },
    {
      "cell_type": "code",
      "source": [
        "!ls -al"
      ],
      "metadata": {
        "colab": {
          "base_uri": "https://localhost:8080/"
        },
        "id": "TNPbDTPivRBh",
        "outputId": "3d2c869b-86d7-4422-b95b-52560b926994"
      },
      "execution_count": 1,
      "outputs": [
        {
          "output_type": "stream",
          "name": "stdout",
          "text": [
            "total 16\n",
            "drwxr-xr-x 1 root root 4096 Jun  1 13:50 .\n",
            "drwxr-xr-x 1 root root 4096 Jun 16 01:25 ..\n",
            "drwxr-xr-x 4 root root 4096 Jun  1 13:49 .config\n",
            "drwxr-xr-x 1 root root 4096 Jun  1 13:50 sample_data\n"
          ]
        }
      ]
    },
    {
      "cell_type": "markdown",
      "source": [
        "## Working with git"
      ],
      "metadata": {
        "id": "vSRdQlZkHh8r"
      }
    },
    {
      "cell_type": "code",
      "source": [
        "%pwd"
      ],
      "metadata": {
        "colab": {
          "base_uri": "https://localhost:8080/",
          "height": 35
        },
        "id": "XVBfjK0GsT8r",
        "outputId": "67e65017-69e4-4ccc-ca0e-7433b7184d0f"
      },
      "execution_count": 2,
      "outputs": [
        {
          "output_type": "execute_result",
          "data": {
            "text/plain": [
              "'/content'"
            ],
            "application/vnd.google.colaboratory.intrinsic+json": {
              "type": "string"
            }
          },
          "metadata": {},
          "execution_count": 2
        }
      ]
    },
    {
      "cell_type": "code",
      "source": [
        "!ls -al"
      ],
      "metadata": {
        "colab": {
          "base_uri": "https://localhost:8080/"
        },
        "id": "v2f28ChRsXxZ",
        "outputId": "0b6b8708-e0ba-4834-d32e-4b2f110643d5"
      },
      "execution_count": 3,
      "outputs": [
        {
          "output_type": "stream",
          "name": "stdout",
          "text": [
            "total 16\n",
            "drwxr-xr-x 1 root root 4096 Jun 15 13:42 .\n",
            "drwxr-xr-x 1 root root 4096 Jun 16 17:53 ..\n",
            "drwxr-xr-x 4 root root 4096 Jun 15 13:41 .config\n",
            "drwxr-xr-x 1 root root 4096 Jun 15 13:42 sample_data\n"
          ]
        }
      ]
    },
    {
      "cell_type": "code",
      "source": [
        "!git clone https://github.com/dmitry-kabanov/datascience"
      ],
      "metadata": {
        "colab": {
          "base_uri": "https://localhost:8080/"
        },
        "id": "_tG7exXGq-de",
        "outputId": "71bc6d73-4246-4052-dc03-480e0bdd8018"
      },
      "execution_count": 4,
      "outputs": [
        {
          "output_type": "stream",
          "name": "stdout",
          "text": [
            "Cloning into 'datascience'...\n",
            "remote: Enumerating objects: 53, done.\u001b[K\n",
            "remote: Counting objects: 100% (53/53), done.\u001b[K\n",
            "remote: Compressing objects: 100% (43/43), done.\u001b[K\n",
            "remote: Total 53 (delta 20), reused 33 (delta 10), pack-reused 0\u001b[K\n",
            "Unpacking objects: 100% (53/53), done.\n"
          ]
        }
      ]
    },
    {
      "cell_type": "code",
      "source": [
        "%cd datascience"
      ],
      "metadata": {
        "colab": {
          "base_uri": "https://localhost:8080/"
        },
        "id": "Pq6VhfhKq_xY",
        "outputId": "71c37d0b-3b57-4865-ae8d-f201dc71f385"
      },
      "execution_count": 5,
      "outputs": [
        {
          "output_type": "stream",
          "name": "stdout",
          "text": [
            "/content/datascience\n"
          ]
        }
      ]
    },
    {
      "cell_type": "code",
      "source": [
        "!git pull"
      ],
      "metadata": {
        "colab": {
          "base_uri": "https://localhost:8080/"
        },
        "id": "eMKCTQpdtIdm",
        "outputId": "e721b7bc-b4fd-419d-c56e-94c0b904ee93"
      },
      "execution_count": 6,
      "outputs": [
        {
          "output_type": "stream",
          "name": "stdout",
          "text": [
            "Already up to date.\n"
          ]
        }
      ]
    },
    {
      "cell_type": "code",
      "source": [
        "!git status"
      ],
      "metadata": {
        "colab": {
          "base_uri": "https://localhost:8080/"
        },
        "id": "JsP9xNl0rLt9",
        "outputId": "2c6adb33-9eb0-4e76-fabd-cc72b5bc2b49"
      },
      "execution_count": 7,
      "outputs": [
        {
          "output_type": "stream",
          "name": "stdout",
          "text": [
            "On branch main\n",
            "Your branch is up to date with 'origin/main'.\n",
            "\n",
            "nothing to commit, working tree clean\n"
          ]
        }
      ]
    },
    {
      "cell_type": "code",
      "source": [
        "!python train_mnist.py"
      ],
      "metadata": {
        "colab": {
          "base_uri": "https://localhost:8080/"
        },
        "id": "_7AOT5slr219",
        "outputId": "90e5aa63-6894-48e2-c2a4-dd7b163d239c"
      },
      "execution_count": 8,
      "outputs": [
        {
          "output_type": "stream",
          "name": "stdout",
          "text": [
            "2022-06-16 18:05:59.865375: W tensorflow/core/platform/cloud/google_auth_provider.cc:184] All attempts to get a Google authentication bearer token failed, returning an empty token. Retrieving token from files failed with \"NOT_FOUND: Could not locate the credentials file.\". Retrieving token from GCE failed with \"NOT_FOUND: Error executing an HTTP request: HTTP response code 404\".\n",
            "\u001b[1mDownloading and preparing dataset mnist/3.0.1 (download: 11.06 MiB, generated: 21.00 MiB, total: 32.06 MiB) to /root/tensorflow_datasets/mnist/3.0.1...\u001b[0m\n",
            "WARNING:absl:Dataset mnist is hosted on GCS. It will automatically be downloaded to your\n",
            "local data directory. If you'd instead prefer to read directly from our public\n",
            "GCS bucket (recommended if you're running on GCP), you can instead pass\n",
            "`try_gcs=True` to `tfds.load` or set `data_dir=gs://tfds-data/datasets`.\n",
            "\n",
            "Dl Completed...: 100% 4/4 [00:00<00:00, 24.63 file/s]\n",
            "Dl Completed...: 100% 4/4 [00:00<00:00, 13.55 file/s]\n",
            "\u001b[1mDataset mnist downloaded and prepared to /root/tensorflow_datasets/mnist/3.0.1. Subsequent calls will reuse this data.\u001b[0m\n",
            "2022-06-16 18:06:04.195199: W tensorflow/core/common_runtime/gpu/gpu_bfc_allocator.cc:39] Overriding allow_growth setting because the TF_FORCE_GPU_ALLOW_GROWTH environment variable is set. Original config value was 0.\n"
          ]
        }
      ]
    },
    {
      "cell_type": "code",
      "source": [
        "Image(\"example.png\")"
      ],
      "metadata": {
        "colab": {
          "base_uri": "https://localhost:8080/",
          "height": 497
        },
        "id": "VbiVAP7Vsikn",
        "outputId": "15d90001-f56a-461e-8ee6-f231481b3d75"
      },
      "execution_count": 12,
      "outputs": [
        {
          "output_type": "execute_result",
          "data": {
            "text/plain": [
              "<IPython.core.display.Image object>"
            ],
            "image/png": "[encoded data removed]"
          },
          "metadata": {},
          "execution_count": 12
        }
      ]
    },
    {
      "cell_type": "code",
      "source": [
        "from IPython.display import Image"
      ],
      "metadata": {
        "id": "WB9jT_7ZsUx1"
      },
      "execution_count": 9,
      "outputs": []
    }
  ]
}