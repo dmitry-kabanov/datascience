{
 "cells": [
  {
   "cell_type": "markdown",
   "id": "729fb3f0-71f4-4e04-9562-5e182f003b1b",
   "metadata": {},
   "source": [
    "# Dynamic programming"
   ]
  },
  {
   "cell_type": "markdown",
   "id": "3384c785-1d82-4cf4-bf42-a9f85baaa055",
   "metadata": {},
   "source": [
    "This notebook is based on the tutorial on Dynamic programming on this webpage (in Russian): https://bestprogrammer.ru/izuchenie/uchebnik-po-dinamicheskomu-programmirovaniyu-sozdanie-effektivnyh-programm-na-python"
   ]
  },
  {
   "cell_type": "markdown",
   "id": "d5791299-66af-4b54-878e-9b3c9b67cd74",
   "metadata": {},
   "source": [
    "## Imports"
   ]
  },
  {
   "cell_type": "code",
   "execution_count": 1,
   "id": "7d0f5b2d-bcce-4a52-b237-b426e3a7dc9a",
   "metadata": {},
   "outputs": [],
   "source": [
    "import time\n",
    "import matplotlib.pyplot as plt"
   ]
  },
  {
   "cell_type": "markdown",
   "id": "7487b3a4-b26d-4811-b4a3-cf2677bbf21a",
   "metadata": {},
   "source": [
    "## Recursive algorithm for Fibonacci numbers"
   ]
  },
  {
   "cell_type": "code",
   "execution_count": 7,
   "id": "0de30dc8-0511-4a66-8bc9-9c5c2241bac8",
   "metadata": {},
   "outputs": [
    {
     "name": "stdout",
     "output_type": "stream",
     "text": [
      "17.5 µs ± 228 ns per loop (mean ± std. dev. of 7 runs, 100000 loops each)\n"
     ]
    }
   ],
   "source": [
    "%%timeit\n",
    "\n",
    "def fib(n):\n",
    "    if n <= 0:\n",
    "        return 0\n",
    "    if n == 1:\n",
    "        return 1\n",
    "    else:\n",
    "        return fib(n-1) + fib(n-2)\n",
    "    \n",
    "fib(10)"
   ]
  },
  {
   "cell_type": "markdown",
   "id": "bf19e97d-9df3-4abc-8082-1df1a012c9ac",
   "metadata": {},
   "source": [
    "## Recursive algorithm with memoization for Fibonacci numbers"
   ]
  },
  {
   "cell_type": "code",
   "execution_count": 8,
   "id": "22c53bcc-d994-4023-8e36-b86b4c801831",
   "metadata": {},
   "outputs": [
    {
     "name": "stdout",
     "output_type": "stream",
     "text": [
      "2.95 µs ± 27.8 ns per loop (mean ± std. dev. of 7 runs, 100000 loops each)\n"
     ]
    }
   ],
   "source": [
    "%%timeit\n",
    "\n",
    "cache = {}\n",
    "\n",
    "def fib(n):\n",
    "    if n <= 0:\n",
    "        return 0\n",
    "    if n == 1:\n",
    "        return 1\n",
    "    elif n in cache:\n",
    "        return cache[n]\n",
    "    else:\n",
    "        cache[n] = fib(n-1) + fib(n-2)\n",
    "        return cache[n]\n",
    "    \n",
    "fib(10)"
   ]
  },
  {
   "cell_type": "markdown",
   "id": "d1316ae4-39b5-49a3-94bc-bf0bacd9c776",
   "metadata": {},
   "source": [
    "We can see that with memoization, the runtime decreases from 18 to 3 microseconds, that is, we get a six-fold improvement."
   ]
  },
  {
   "cell_type": "markdown",
   "id": "0be10c5a-c7d1-4904-a052-93245ce6a35e",
   "metadata": {},
   "source": [
    "## Knapsack problem"
   ]
  },
  {
   "cell_type": "markdown",
   "id": "b3a26fcf-c148-4931-b460-b7bac9f420a1",
   "metadata": {},
   "source": [
    "Based on the description from https://en.wikipedia.org/wiki/Knapsack_problem as the original statement is incomprehensible.\n",
    "\n",
    "We consider the problem of choosing some items from the given $n$ items such that the total value of these items is maximized but the total weight of these items does not exceed a given maximum capacity. This is called **0-1 knapsack problem** because we either take an item (1) or do not (0); we are not allowed to take fractions of the items.\n",
    "\n",
    "Let's denote by $x_i$ if we take the $ith$ item or not: $x_i \\in \\{0, 1\\}$. The value and the weight of the $i$th item are $v_i$ and $w_i$, respectively. The maximum allowed capacity is $M$.\n",
    "\n",
    "Then, mathematically we solve the following problem:\n",
    "$$\n",
    "\\begin{align}\n",
    "\\text{maximize}   & \\sum_{i=1}^n x_i v_i \\\\\n",
    "\\text{subject to} & \\sum_{i=1}^n x_i w_i \\leq M,\n",
    "\\end{align}\n",
    "$$\n",
    "where $x_i \\in \\{0, 1\\}$."
   ]
  },
  {
   "cell_type": "markdown",
   "id": "fa4d1820-1cdb-4d1b-98e1-39f34f00f45e",
   "metadata": {},
   "source": [
    "The following implementation and test problem follows https://en.wikipedia.org/wiki/Knapsack_problem"
   ]
  },
  {
   "cell_type": "code",
   "execution_count": 26,
   "id": "97d6ef09-4cd3-4028-b2c8-7c989ea5c8f5",
   "metadata": {},
   "outputs": [],
   "source": [
    "def solve_knapsack_problem(v, w, M):\n",
    "    \"\"\"Solve knapsack problem with values `v`, weights `w`, and capacity `M`.\"\"\"\n",
    "    n = len(v)\n",
    "    assert len(v) == len(w)\n",
    "    \n",
    "    cache = {}\n",
    "    \n",
    "    for i in (range(0, n)):\n",
    "        cache[i, 0] = 0\n",
    "    for j in (range(0, M+1)):\n",
    "        cache[0, j] = 0\n",
    "    \n",
    "    for i in range(1, n):\n",
    "        for j in range(0, M+1):\n",
    "            if w[i] > j:\n",
    "                cache[i, j] = cache[i-1, j]\n",
    "            else:\n",
    "                cache[i, j] = max(\n",
    "                    cache[i-1, j],\n",
    "                    cache[i-1, j-w[i]] + v[i]\n",
    "                )\n",
    "                \n",
    "    return cache[n-1, M]"
   ]
  },
  {
   "cell_type": "code",
   "execution_count": 27,
   "id": "77c4886d-1338-4041-9f66-51e435c46672",
   "metadata": {},
   "outputs": [
    {
     "data": {
      "text/plain": [
       "9"
      ]
     },
     "execution_count": 27,
     "metadata": {},
     "output_type": "execute_result"
    }
   ],
   "source": [
    "v = [5, 4, 3, 2]\n",
    "w = [4, 3, 2, 1]\n",
    "M = 6\n",
    "\n",
    "solve_knapsack_problem(v, w, M)"
   ]
  },
  {
   "cell_type": "markdown",
   "id": "46ed6b9a-21fa-4f5d-af6f-b36add6dfc4c",
   "metadata": {
    "tags": []
   },
   "source": [
    "## Coin change problem"
   ]
  },
  {
   "cell_type": "code",
   "execution_count": null,
   "id": "9ae7d8df-c7f3-4cf5-ba89-c611b54b1fbd",
   "metadata": {},
   "outputs": [],
   "source": []
  }
 ],
 "metadata": {
  "kernelspec": {
   "display_name": "Python 3",
   "language": "python",
   "name": "python3"
  },
  "language_info": {
   "codemirror_mode": {
    "name": "ipython",
    "version": 3
   },
   "file_extension": ".py",
   "mimetype": "text/x-python",
   "name": "python",
   "nbconvert_exporter": "python",
   "pygments_lexer": "ipython3",
   "version": "3.8.8"
  }
 },
 "nbformat": 4,
 "nbformat_minor": 5
}
