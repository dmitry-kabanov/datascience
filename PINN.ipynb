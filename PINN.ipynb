{
 "cells": [
  {
   "cell_type": "markdown",
   "id": "d0c2c4b4-e5f0-4888-b3be-508b91f4c359",
   "metadata": {},
   "source": [
    "# Physics-informed neural networks for differential equations"
   ]
  },
  {
   "cell_type": "code",
   "execution_count": 1,
   "id": "2f9e55f1-fa53-4a75-83aa-c764c4b62be2",
   "metadata": {},
   "outputs": [],
   "source": [
    "import tensorflow as tf\n",
    "import numpy as np\n",
    "import matplotlib.pyplot as plt\n",
    "\n",
    "%matplotlib inline"
   ]
  },
  {
   "cell_type": "code",
   "execution_count": 102,
   "id": "897753b0-8519-4936-b6fa-b2244aa3534a",
   "metadata": {},
   "outputs": [],
   "source": [
    "class DiffEqRegularization(tf.keras.layers.Layer):\n",
    "    def __init__(self, model):\n",
    "        super(DiffEqRegularization, self).__init__()\n",
    "        self.model = model\n",
    "        \n",
    "    def call(self, x):\n",
    "        with tf.GradientTape() as hess:\n",
    "            with tf.GradientTape() as grad:\n",
    "                hess.watch(x)\n",
    "                grad.watch(x)\n",
    "                \n",
    "                u = self.model(x)\n",
    "                \n",
    "            du_dx = grad.gradient(u, x)\n",
    "            \n",
    "        d2u_dx2 = hess.gradient(du_dx, x)\n",
    "                        \n",
    "        residual = d2u_dx2 - 4 * du_dx - 5 * u\n",
    "        self.add_loss(tf.reduce_mean(tf.square(residual)))\n",
    "        tf.print(\"Residual \", tf.reduce_mean(tf.square(residual)))\n",
    "        \n",
    "        return (u, residual)"
   ]
  },
  {
   "cell_type": "code",
   "execution_count": 103,
   "id": "528d6acf-63d2-4037-a1d1-1a68182bc941",
   "metadata": {},
   "outputs": [
    {
     "name": "stdout",
     "output_type": "stream",
     "text": [
      "Epoch 1/20\n",
      "Residual  12.078476\n",
      "1/4 [======>.......................] - ETA: 0s - loss: 12.0785 - diff_eq_regularization_19_loss: 0.0000e+00 - diff_eq_regularization_19_1_loss: 0.0000e+00Residual  8.32290268\n",
      "Residual  5.76867294\n",
      "Residual  4.79193783\n",
      "4/4 [==============================] - 0s 2ms/step - loss: 7.7405 - diff_eq_regularization_19_loss: 0.0000e+00 - diff_eq_regularization_19_1_loss: 0.0000e+00\n",
      "Epoch 2/20\n",
      "Residual  2.37960958\n",
      "1/4 [======>.......................] - ETA: 0s - loss: 2.3796 - diff_eq_regularization_19_loss: 0.0000e+00 - diff_eq_regularization_19_1_loss: 0.0000e+00Residual  1.59105289\n",
      "Residual  1.12387478\n",
      "Residual  0.811251462\n",
      "4/4 [==============================] - 0s 2ms/step - loss: 1.4764 - diff_eq_regularization_19_loss: 0.0000e+00 - diff_eq_regularization_19_1_loss: 0.0000e+00\n",
      "Epoch 3/20\n",
      "Residual  0.53104353\n",
      "1/4 [======>.......................] - ETA: 0s - loss: 0.5310 - diff_eq_regularization_19_loss: 0.0000e+00 - diff_eq_regularization_19_1_loss: 0.0000e+00Residual  0.338043958\n",
      "Residual  0.242685616\n",
      "Residual  0.109599136\n",
      "4/4 [==============================] - 0s 2ms/step - loss: 0.3053 - diff_eq_regularization_19_loss: 0.0000e+00 - diff_eq_regularization_19_1_loss: 0.0000e+00\n",
      "Epoch 4/20\n",
      "Residual  0.13720119\n",
      "1/4 [======>.......................] - ETA: 0s - loss: 0.1372 - diff_eq_regularization_19_loss: 0.0000e+00 - diff_eq_regularization_19_1_loss: 0.0000e+00Residual  0.077730149\n",
      "Residual  0.0895241201\n",
      "Residual  0.102994941\n",
      "4/4 [==============================] - 0s 2ms/step - loss: 0.1019 - diff_eq_regularization_19_loss: 0.0000e+00 - diff_eq_regularization_19_1_loss: 0.0000e+00\n",
      "Epoch 5/20\n",
      "Residual  0.0555762723\n",
      "1/4 [======>.......................] - ETA: 0s - loss: 0.0556 - diff_eq_regularization_19_loss: 0.0000e+00 - diff_eq_regularization_19_1_loss: 0.0000e+00Residual  0.0252431557\n",
      "Residual  0.0398863219\n",
      "Residual  0.0596422367\n",
      "4/4 [==============================] - 0s 2ms/step - loss: 0.0451 - diff_eq_regularization_19_loss: 0.0000e+00 - diff_eq_regularization_19_1_loss: 0.0000e+00\n",
      "Epoch 6/20\n",
      "Residual  0.0357516631\n",
      "1/4 [======>.......................] - ETA: 0s - loss: 0.0358 - diff_eq_regularization_19_loss: 0.0000e+00 - diff_eq_regularization_19_1_loss: 0.0000e+00Residual  0.0301033966\n",
      "Residual  0.0271379538\n",
      "Residual  0.0171012916\n",
      "4/4 [==============================] - 0s 2ms/step - loss: 0.0275 - diff_eq_regularization_19_loss: 0.0000e+00 - diff_eq_regularization_19_1_loss: 0.0000e+00\n",
      "Epoch 7/20\n",
      "Residual  0.0335844681\n",
      "1/4 [======>.......................] - ETA: 0s - loss: 0.0336 - diff_eq_regularization_19_loss: 0.0000e+00 - diff_eq_regularization_19_1_loss: 0.0000e+00Residual  0.0237531103\n",
      "Residual  0.0268531162\n",
      "Residual  0.0524860844\n",
      "4/4 [==============================] - 0s 2ms/step - loss: 0.0342 - diff_eq_regularization_19_loss: 0.0000e+00 - diff_eq_regularization_19_1_loss: 0.0000e+00\n",
      "Epoch 8/20\n",
      "Residual  0.0294203479\n",
      "1/4 [======>.......................] - ETA: 0s - loss: 0.0294 - diff_eq_regularization_19_loss: 0.0000e+00 - diff_eq_regularization_19_1_loss: 0.0000e+00Residual  0.0281906724\n",
      "Residual  0.0274832472\n",
      "Residual  0.0298485663\n",
      "4/4 [==============================] - 0s 2ms/step - loss: 0.0287 - diff_eq_regularization_19_loss: 0.0000e+00 - diff_eq_regularization_19_1_loss: 0.0000e+00\n",
      "Epoch 9/20\n",
      "Residual  0.0233505778\n",
      "1/4 [======>.......................] - ETA: 0s - loss: 0.0234 - diff_eq_regularization_19_loss: 0.0000e+00 - diff_eq_regularization_19_1_loss: 0.0000e+00Residual  0.0267245062\n",
      "Residual  0.0358442888\n",
      "Residual  0.0277984887\n",
      "4/4 [==============================] - 0s 3ms/step - loss: 0.0284 - diff_eq_regularization_19_loss: 0.0000e+00 - diff_eq_regularization_19_1_loss: 0.0000e+00\n",
      "Epoch 10/20\n",
      "Residual  0.0278165191\n",
      "1/4 [======>.......................] - ETA: 0s - loss: 0.0278 - diff_eq_regularization_19_loss: 0.0000e+00 - diff_eq_regularization_19_1_loss: 0.0000e+00Residual  0.0274431594\n",
      "Residual  0.0314634889\n",
      "Residual  0.0154076992\n",
      "4/4 [==============================] - 0s 2ms/step - loss: 0.0255 - diff_eq_regularization_19_loss: 0.0000e+00 - diff_eq_regularization_19_1_loss: 0.0000e+00\n",
      "Epoch 11/20\n",
      "Residual  0.0308296587\n",
      "1/4 [======>.......................] - ETA: 0s - loss: 0.0308 - diff_eq_regularization_19_loss: 0.0000e+00 - diff_eq_regularization_19_1_loss: 0.0000e+00Residual  0.0253804624\n",
      "Residual  0.0312237442\n",
      "Residual  0.0103281057\n",
      "4/4 [==============================] - 0s 2ms/step - loss: 0.0244 - diff_eq_regularization_19_loss: 0.0000e+00 - diff_eq_regularization_19_1_loss: 0.0000e+00\n",
      "Epoch 12/20\n",
      "Residual  0.0214521345\n",
      "1/4 [======>.......................] - ETA: 0s - loss: 0.0215 - diff_eq_regularization_19_loss: 0.0000e+00 - diff_eq_regularization_19_1_loss: 0.0000e+00Residual  0.0295480751\n",
      "Residual  0.0330736637\n",
      "Residual  0.0270722769\n",
      "4/4 [==============================] - 0s 2ms/step - loss: 0.0278 - diff_eq_regularization_19_loss: 0.0000e+00 - diff_eq_regularization_19_1_loss: 0.0000e+00\n",
      "Epoch 13/20\n",
      "Residual  0.0331044085\n",
      "1/4 [======>.......................] - ETA: 0s - loss: 0.0331 - diff_eq_regularization_19_loss: 0.0000e+00 - diff_eq_regularization_19_1_loss: 0.0000e+00Residual  0.0215473734\n",
      "Residual  0.02888567\n",
      "Residual  0.0304033644\n",
      "4/4 [==============================] - 0s 2ms/step - loss: 0.0285 - diff_eq_regularization_19_loss: 0.0000e+00 - diff_eq_regularization_19_1_loss: 0.0000e+00\n",
      "Epoch 14/20\n",
      "Residual  0.0260213464\n",
      "1/4 [======>.......................] - ETA: 0s - loss: 0.0260 - diff_eq_regularization_19_loss: 0.0000e+00 - diff_eq_regularization_19_1_loss: 0.0000e+00Residual  0.0299938\n",
      "Residual  0.026426442\n",
      "Residual  0.0306977071\n",
      "4/4 [==============================] - 0s 2ms/step - loss: 0.0283 - diff_eq_regularization_19_loss: 0.0000e+00 - diff_eq_regularization_19_1_loss: 0.0000e+00\n",
      "Epoch 15/20\n",
      "Residual  0.0291639213\n",
      "1/4 [======>.......................] - ETA: 0s - loss: 0.0292 - diff_eq_regularization_19_loss: 0.0000e+00 - diff_eq_regularization_19_1_loss: 0.0000e+00Residual  0.0255263932\n",
      "Residual  0.0281349383\n",
      "Residual  0.0247837\n",
      "4/4 [==============================] - 0s 2ms/step - loss: 0.0269 - diff_eq_regularization_19_loss: 0.0000e+00 - diff_eq_regularization_19_1_loss: 0.0000e+00\n",
      "Epoch 16/20\n",
      "Residual  0.0213726554\n",
      "1/4 [======>.......................] - ETA: 0s - loss: 0.0214 - diff_eq_regularization_19_loss: 0.0000e+00 - diff_eq_regularization_19_1_loss: 0.0000e+00Residual  0.0334290601\n",
      "Residual  0.0280126315\n",
      "Residual  0.0229255073\n",
      "4/4 [==============================] - 0s 2ms/step - loss: 0.0264 - diff_eq_regularization_19_loss: 0.0000e+00 - diff_eq_regularization_19_1_loss: 0.0000e+00\n",
      "Epoch 17/20\n",
      "Residual  0.0262755416\n",
      "1/4 [======>.......................] - ETA: 0s - loss: 0.0263 - diff_eq_regularization_19_loss: 0.0000e+00 - diff_eq_regularization_19_1_loss: 0.0000e+00Residual  0.0246050805\n",
      "Residual  0.0295992419\n",
      "Residual  0.0365742445\n",
      "4/4 [==============================] - 0s 2ms/step - loss: 0.0293 - diff_eq_regularization_19_loss: 0.0000e+00 - diff_eq_regularization_19_1_loss: 0.0000e+00\n",
      "Epoch 18/20\n",
      "Residual  0.0245333835\n",
      "1/4 [======>.......................] - ETA: 0s - loss: 0.0245 - diff_eq_regularization_19_loss: 0.0000e+00 - diff_eq_regularization_19_1_loss: 0.0000e+00Residual  0.0268504098\n",
      "Residual  0.0324710198\n",
      "Residual  0.0136799319\n",
      "4/4 [==============================] - 0s 2ms/step - loss: 0.0244 - diff_eq_regularization_19_loss: 0.0000e+00 - diff_eq_regularization_19_1_loss: 0.0000e+00\n",
      "Epoch 19/20\n",
      "Residual  0.0261494387\n",
      "1/4 [======>.......................] - ETA: 0s - loss: 0.0261 - diff_eq_regularization_19_loss: 0.0000e+00 - diff_eq_regularization_19_1_loss: 0.0000e+00Residual  0.0257138703\n",
      "Residual  0.0298184771\n",
      "Residual  0.0250007771\n",
      "4/4 [==============================] - 0s 2ms/step - loss: 0.0267 - diff_eq_regularization_19_loss: 0.0000e+00 - diff_eq_regularization_19_1_loss: 0.0000e+00\n",
      "Epoch 20/20\n",
      "Residual  0.0280871838\n",
      "1/4 [======>.......................] - ETA: 0s - loss: 0.0281 - diff_eq_regularization_19_loss: 0.0000e+00 - diff_eq_regularization_19_1_loss: 0.0000e+00Residual  0.02734714\n",
      "Residual  0.0245551039\n",
      "Residual  0.0375904329\n",
      "4/4 [==============================] - 0s 2ms/step - loss: 0.0294 - diff_eq_regularization_19_loss: 0.0000e+00 - diff_eq_regularization_19_1_loss: 0.0000e+00\n"
     ]
    }
   ],
   "source": [
    "model = tf.keras.Sequential(\n",
    "    [\n",
    "        tf.keras.layers.Dense(10, input_shape=(1,), activation=\"sigmoid\"),\n",
    "        tf.keras.layers.Dense(1),\n",
    "    ]\n",
    ")\n",
    "\n",
    "x = tf.keras.layers.Input(shape=(1,))\n",
    "u, residual = DiffEqRegularization(model)(x)\n",
    "pinn = tf.keras.Model(inputs=[x], outputs=[u, residual])\n",
    "\n",
    "pinn.compile(loss=[\"mse\", \"mse\"], optimizer=tf.keras.optimizers.SGD(learning_rate=0.001))\n",
    "\n",
    "train_x = np.reshape(np.linspace(0, 1, num=101), (-1, 1))\n",
    "history = pinn.fit(train_x, epochs=20, verbose=1)"
   ]
  },
  {
   "cell_type": "code",
   "execution_count": 104,
   "id": "797c11d3-dab6-4e10-866c-9e342acba78a",
   "metadata": {},
   "outputs": [
    {
     "data": {
      "text/plain": [
       "Text(0, 0.5, 'Loss')"
      ]
     },
     "execution_count": 104,
     "metadata": {},
     "output_type": "execute_result"
    },
    {
     "data": {
      "image/png": "[encoded data removed]",
      "text/plain": [
       "<Figure size 432x288 with 1 Axes>"
      ]
     },
     "metadata": {
      "image/png": {
       "height": 265,
       "width": 393
      },
      "needs_background": "light"
     },
     "output_type": "display_data"
    }
   ],
   "source": [
    "plt.figure()\n",
    "plt.semilogy(history.history[\"loss\"])\n",
    "plt.xlabel(\"Epoch\")\n",
    "plt.ylabel(\"Loss\")"
   ]
  },
  {
   "cell_type": "code",
   "execution_count": 107,
   "id": "9933ae50-5423-4d63-b5e8-65ea9d0463d1",
   "metadata": {},
   "outputs": [
    {
     "name": "stdout",
     "output_type": "stream",
     "text": [
      "Residual  0.0370970406\n",
      "Residual  0.00274408446\n",
      "Residual  0.0334667787\n",
      "Residual  0.0726301521\n"
     ]
    }
   ],
   "source": [
    "test_x = np.reshape(np.linspace(0, 1, num=101), (-1, 1))\n",
    "true_soln = 1.0/6.0 * np.exp(5*test_x) + 5.0/6.0 * np.exp(-test_x)\n",
    "\n",
    "test_y, _ = pinn.predict(train_x)"
   ]
  },
  {
   "cell_type": "code",
   "execution_count": 108,
   "id": "3ce8abf2-96f1-48ef-9f1e-eb57d4e75fb9",
   "metadata": {},
   "outputs": [
    {
     "data": {
      "text/plain": [
       "[<matplotlib.lines.Line2D at 0x7fd7b0f34250>]"
      ]
     },
     "execution_count": 108,
     "metadata": {},
     "output_type": "execute_result"
    },
    {
     "data": {
      "image/png": "[encoded data removed]",
      "text/plain": [
       "<Figure size 432x288 with 1 Axes>"
      ]
     },
     "metadata": {
      "image/png": {
       "height": 248,
       "width": 368
      },
      "needs_background": "light"
     },
     "output_type": "display_data"
    }
   ],
   "source": [
    "plt.figure()\n",
    "plt.plot(test_x, true_soln, \"-\", label=\"True soln\")\n",
    "plt.plot(test_x, test_y, \"--\", label=\"NN approx\")"
   ]
  },
  {
   "cell_type": "code",
   "execution_count": 109,
   "id": "82a43a5d-8152-449f-8977-c053121a4837",
   "metadata": {},
   "outputs": [
    {
     "name": "stdout",
     "output_type": "stream",
     "text": [
      "Residual  0.0370970406\n",
      "Residual  0.00274408446\n",
      "Residual  0.0334667787\n",
      "Residual  0.0726301521\n"
     ]
    },
    {
     "data": {
      "text/plain": [
       "[array([[0.15067516],\n",
       "        [0.1494867 ],\n",
       "        [0.14829801],\n",
       "        [0.14710943],\n",
       "        [0.1459207 ],\n",
       "        [0.14473192],\n",
       "        [0.1435432 ],\n",
       "        [0.14235447],\n",
       "        [0.14116575],\n",
       "        [0.13997713],\n",
       "        [0.13878863],\n",
       "        [0.1376002 ],\n",
       "        [0.13641192],\n",
       "        [0.13522379],\n",
       "        [0.13403584],\n",
       "        [0.13284813],\n",
       "        [0.13166067],\n",
       "        [0.13047346],\n",
       "        [0.12928654],\n",
       "        [0.12809995],\n",
       "        [0.1269137 ],\n",
       "        [0.12572782],\n",
       "        [0.1245423 ],\n",
       "        [0.1233571 ],\n",
       "        [0.12217243],\n",
       "        [0.12098823],\n",
       "        [0.11980446],\n",
       "        [0.11862123],\n",
       "        [0.11743844],\n",
       "        [0.11625632],\n",
       "        [0.11507472],\n",
       "        [0.11389372],\n",
       "        [0.11271336],\n",
       "        [0.11153364],\n",
       "        [0.11035454],\n",
       "        [0.10917619],\n",
       "        [0.10799857],\n",
       "        [0.10682173],\n",
       "        [0.10564557],\n",
       "        [0.10447016],\n",
       "        [0.10329571],\n",
       "        [0.10212196],\n",
       "        [0.10094922],\n",
       "        [0.09977717],\n",
       "        [0.09860616],\n",
       "        [0.09743609],\n",
       "        [0.09626678],\n",
       "        [0.09509863],\n",
       "        [0.09393144],\n",
       "        [0.09276528],\n",
       "        [0.09160013],\n",
       "        [0.09043608],\n",
       "        [0.08927305],\n",
       "        [0.0881112 ],\n",
       "        [0.08695049],\n",
       "        [0.08579091],\n",
       "        [0.08463248],\n",
       "        [0.08347524],\n",
       "        [0.0823193 ],\n",
       "        [0.08116457],\n",
       "        [0.08001103],\n",
       "        [0.07885893],\n",
       "        [0.07770804],\n",
       "        [0.07655846],\n",
       "        [0.07541024],\n",
       "        [0.07426349],\n",
       "        [0.07311802],\n",
       "        [0.07197402],\n",
       "        [0.07083147],\n",
       "        [0.06969034],\n",
       "        [0.06855076],\n",
       "        [0.06741263],\n",
       "        [0.06627607],\n",
       "        [0.06514105],\n",
       "        [0.06400755],\n",
       "        [0.06287569],\n",
       "        [0.06174545],\n",
       "        [0.06061676],\n",
       "        [0.05948973],\n",
       "        [0.05836439],\n",
       "        [0.05724074],\n",
       "        [0.05611879],\n",
       "        [0.05499856],\n",
       "        [0.05388013],\n",
       "        [0.05276339],\n",
       "        [0.05164853],\n",
       "        [0.05053538],\n",
       "        [0.04942408],\n",
       "        [0.04831457],\n",
       "        [0.04720703],\n",
       "        [0.04610136],\n",
       "        [0.04499754],\n",
       "        [0.04389566],\n",
       "        [0.04279582],\n",
       "        [0.0416978 ],\n",
       "        [0.0406018 ],\n",
       "        [0.03950775],\n",
       "        [0.03841579],\n",
       "        [0.03732583],\n",
       "        [0.03623793],\n",
       "        [0.03515208]], dtype=float32),\n",
       " array([[-0.27926898],\n",
       "        [-0.27303743],\n",
       "        [-0.26681444],\n",
       "        [-0.2606017 ],\n",
       "        [-0.25439784],\n",
       "        [-0.24820367],\n",
       "        [-0.24201941],\n",
       "        [-0.23584494],\n",
       "        [-0.22968024],\n",
       "        [-0.22352588],\n",
       "        [-0.21738195],\n",
       "        [-0.21124819],\n",
       "        [-0.20512503],\n",
       "        [-0.19901249],\n",
       "        [-0.19291067],\n",
       "        [-0.18682   ],\n",
       "        [-0.18074036],\n",
       "        [-0.17467201],\n",
       "        [-0.1686149 ],\n",
       "        [-0.16256928],\n",
       "        [-0.1565353 ],\n",
       "        [-0.15051317],\n",
       "        [-0.1445027 ],\n",
       "        [-0.13850382],\n",
       "        [-0.13251752],\n",
       "        [-0.12654349],\n",
       "        [-0.12058148],\n",
       "        [-0.11463222],\n",
       "        [-0.10869506],\n",
       "        [-0.1027711 ],\n",
       "        [-0.09685981],\n",
       "        [-0.09096146],\n",
       "        [-0.08507624],\n",
       "        [-0.07920408],\n",
       "        [-0.07334501],\n",
       "        [-0.06749958],\n",
       "        [-0.06166783],\n",
       "        [-0.05584982],\n",
       "        [-0.05004519],\n",
       "        [-0.04425415],\n",
       "        [-0.03847787],\n",
       "        [-0.03271496],\n",
       "        [-0.02696693],\n",
       "        [-0.02123234],\n",
       "        [-0.01551282],\n",
       "        [-0.0098078 ],\n",
       "        [-0.00411651],\n",
       "        [ 0.00155926],\n",
       "        [ 0.00722033],\n",
       "        [ 0.01286647],\n",
       "        [ 0.01849774],\n",
       "        [ 0.02411377],\n",
       "        [ 0.02971491],\n",
       "        [ 0.03530037],\n",
       "        [ 0.0408704 ],\n",
       "        [ 0.04642501],\n",
       "        [ 0.05196419],\n",
       "        [ 0.05748776],\n",
       "        [ 0.06299523],\n",
       "        [ 0.06848684],\n",
       "        [ 0.07396302],\n",
       "        [ 0.07942227],\n",
       "        [ 0.08486599],\n",
       "        [ 0.09029353],\n",
       "        [ 0.09570476],\n",
       "        [ 0.10109907],\n",
       "        [ 0.1064775 ],\n",
       "        [ 0.11183912],\n",
       "        [ 0.11718404],\n",
       "        [ 0.12251249],\n",
       "        [ 0.12782374],\n",
       "        [ 0.13311842],\n",
       "        [ 0.13839582],\n",
       "        [ 0.14365625],\n",
       "        [ 0.14889982],\n",
       "        [ 0.15412593],\n",
       "        [ 0.15933472],\n",
       "        [ 0.16452652],\n",
       "        [ 0.16970095],\n",
       "        [ 0.17485777],\n",
       "        [ 0.179997  ],\n",
       "        [ 0.18511862],\n",
       "        [ 0.19022259],\n",
       "        [ 0.19530869],\n",
       "        [ 0.20037732],\n",
       "        [ 0.20542768],\n",
       "        [ 0.21046048],\n",
       "        [ 0.21547508],\n",
       "        [ 0.2204721 ],\n",
       "        [ 0.22545049],\n",
       "        [ 0.23041067],\n",
       "        [ 0.23535287],\n",
       "        [ 0.24027675],\n",
       "        [ 0.24518175],\n",
       "        [ 0.25006917],\n",
       "        [ 0.25493783],\n",
       "        [ 0.2597883 ],\n",
       "        [ 0.26461977],\n",
       "        [ 0.26943278],\n",
       "        [ 0.27422717],\n",
       "        [ 0.27900296]], dtype=float32)]"
      ]
     },
     "execution_count": 109,
     "metadata": {},
     "output_type": "execute_result"
    }
   ],
   "source": [
    "pinn.predict(train_x)"
   ]
  },
  {
   "cell_type": "code",
   "execution_count": 71,
   "id": "50b3b8a2-6aef-4e62-9a5f-37a171651cf6",
   "metadata": {},
   "outputs": [
    {
     "data": {
      "text/plain": [
       "<KerasTensor: shape=(None, 1) dtype=float32 (created by layer 'dense_24_input')>"
      ]
     },
     "execution_count": 71,
     "metadata": {},
     "output_type": "execute_result"
    }
   ],
   "source": [
    "pinn.layers[-1].model.input"
   ]
  },
  {
   "cell_type": "code",
   "execution_count": 101,
   "id": "5190976f-8e52-492c-a3c5-b3a0aa5507da",
   "metadata": {},
   "outputs": [
    {
     "data": {
      "text/plain": [
       "{'loss': [10.251306533813477,\n",
       "  2.0144572257995605,\n",
       "  0.4075077772140503,\n",
       "  0.0891527533531189,\n",
       "  0.020810719579458237,\n",
       "  0.01240501832216978,\n",
       "  0.008821578696370125,\n",
       "  0.00711354985833168,\n",
       "  0.007599477656185627,\n",
       "  0.007443917915225029,\n",
       "  0.008009836077690125,\n",
       "  0.008072737604379654,\n",
       "  0.006908515468239784,\n",
       "  0.008865044452250004,\n",
       "  0.00720113143324852,\n",
       "  0.008208639919757843,\n",
       "  0.0076703825034201145,\n",
       "  0.007879316806793213,\n",
       "  0.0072359186597168446,\n",
       "  0.007344103418290615],\n",
       " 'diff_eq_regularization_18_loss': [0.0,\n",
       "  0.0,\n",
       "  0.0,\n",
       "  0.0,\n",
       "  0.0,\n",
       "  0.0,\n",
       "  0.0,\n",
       "  0.0,\n",
       "  0.0,\n",
       "  0.0,\n",
       "  0.0,\n",
       "  0.0,\n",
       "  0.0,\n",
       "  0.0,\n",
       "  0.0,\n",
       "  0.0,\n",
       "  0.0,\n",
       "  0.0,\n",
       "  0.0,\n",
       "  0.0],\n",
       " 'diff_eq_regularization_18_1_loss': [0.0,\n",
       "  0.0,\n",
       "  0.0,\n",
       "  0.0,\n",
       "  0.0,\n",
       "  0.0,\n",
       "  0.0,\n",
       "  0.0,\n",
       "  0.0,\n",
       "  0.0,\n",
       "  0.0,\n",
       "  0.0,\n",
       "  0.0,\n",
       "  0.0,\n",
       "  0.0,\n",
       "  0.0,\n",
       "  0.0,\n",
       "  0.0,\n",
       "  0.0,\n",
       "  0.0]}"
      ]
     },
     "execution_count": 101,
     "metadata": {},
     "output_type": "execute_result"
    }
   ],
   "source": [
    "history.history"
   ]
  },
  {
   "cell_type": "code",
   "execution_count": 100,
   "id": "7f3d58aa-9f89-4215-b7f0-2054a2fef8bb",
   "metadata": {},
   "outputs": [
    {
     "data": {
      "text/plain": [
       "[<tf.Tensor 'model_5/diff_eq_regularization_18/Mean:0' shape=() dtype=float32>]"
      ]
     },
     "execution_count": 100,
     "metadata": {},
     "output_type": "execute_result"
    }
   ],
   "source": [
    "pinn.losses"
   ]
  },
  {
   "cell_type": "code",
   "execution_count": null,
   "id": "a517ecb5-5d21-4cce-bfe0-6d607431175c",
   "metadata": {},
   "outputs": [],
   "source": []
  }
 ],
 "metadata": {
  "kernelspec": {
   "display_name": "Python 3",
   "language": "python",
   "name": "python3"
  },
  "language_info": {
   "codemirror_mode": {
    "name": "ipython",
    "version": 3
   },
   "file_extension": ".py",
   "mimetype": "text/x-python",
   "name": "python",
   "nbconvert_exporter": "python",
   "pygments_lexer": "ipython3",
   "version": "3.7.10"
  }
 },
 "nbformat": 4,
 "nbformat_minor": 5
}
