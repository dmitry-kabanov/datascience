{
 "cells": [
  {
   "cell_type": "markdown",
   "id": "3b19aaac-687b-46bf-a883-1b9919e9572c",
   "metadata": {},
   "source": [
    "# Iterative prompt development\n",
    "\n",
    "In this lesson, you'll iteratively analyze and refine your prompts to generate marketing copy from a product fact sheet."
   ]
  },
  {
   "cell_type": "markdown",
   "id": "db131cd2-3dca-41d6-be54-624dcdd1993e",
   "metadata": {},
   "source": [
    "## Setup"
   ]
  },
  {
   "cell_type": "code",
   "execution_count": 1,
   "id": "9c07caf5-27cb-4090-a6f4-2db41c820498",
   "metadata": {},
   "outputs": [],
   "source": [
    "import openai\n",
    "import os\n",
    "\n",
    "from dotenv import load_dotenv\n",
    "_ = load_dotenv(\".env\")\n",
    "\n",
    "openai.api_key = os.getenv(\"OPENAI_API_KEY\")"
   ]
  },
  {
   "cell_type": "code",
   "execution_count": 5,
   "id": "e2a3e0d0-347b-4ad1-8f6e-e60de11195fa",
   "metadata": {},
   "outputs": [],
   "source": [
    "def get_completion(prompt, model=\"gpt-3.5-turbo\"):\n",
    "    messages = [{\"role\": \"user\", \"content\": prompt}]\n",
    "    response = openai.ChatCompletion.create(\n",
    "        model=model,\n",
    "        messages=messages,\n",
    "        temperature=0,  # this is the degree of randomness of model's output\n",
    "    )\n",
    "    return response.choices[0].message[\"content\"]"
   ]
  },
  {
   "cell_type": "markdown",
   "id": "be38dae9-253f-4358-8983-8498fba6d4eb",
   "metadata": {},
   "source": [
    "## Generate a marketing product description from a product fact sheet"
   ]
  },
  {
   "cell_type": "code",
   "execution_count": 3,
   "id": "b89990f4-6f73-418c-b0a4-069682001f32",
   "metadata": {},
   "outputs": [],
   "source": [
    "fact_sheet_chair = \"\"\"\n",
    "OVERVIEW\n",
    "- Part of a beautiful family of mid-century inspired office furniture, \n",
    "including filing cabinets, desks, bookcases, meeting tables, and more.\n",
    "- Several options of shell color and base finishes.\n",
    "- Available with plastic back and front upholstery (SWC-100) \n",
    "or full upholstery (SWC-110) in 10 fabric and 6 leather options.\n",
    "- Base finish options are: stainless steel, matte black, \n",
    "gloss white, or chrome.\n",
    "- Chair is available with or without armrests.\n",
    "- Suitable for home or business settings.\n",
    "- Qualified for contract use.\n",
    "\n",
    "CONSTRUCTION\n",
    "- 5-wheel plastic coated aluminum base.\n",
    "- Pneumatic chair adjust for easy raise/lower action.\n",
    "\n",
    "DIMENSIONS\n",
    "- WIDTH 53 CM | 20.87”\n",
    "- DEPTH 51 CM | 20.08”\n",
    "- HEIGHT 80 CM | 31.50”\n",
    "- SEAT HEIGHT 44 CM | 17.32”\n",
    "- SEAT DEPTH 41 CM | 16.14”\n",
    "\n",
    "OPTIONS\n",
    "- Soft or hard-floor caster options.\n",
    "- Two choices of seat foam densities: \n",
    " medium (1.8 lb/ft3) or high (2.8 lb/ft3)\n",
    "- Armless or 8 position PU armrests \n",
    "\n",
    "MATERIALS\n",
    "SHELL BASE GLIDER\n",
    "- Cast Aluminum with modified nylon PA6/PA66 coating.\n",
    "- Shell thickness: 10 mm.\n",
    "SEAT\n",
    "- HD36 foam\n",
    "\n",
    "COUNTRY OF ORIGIN\n",
    "- Italy\n",
    "\"\"\""
   ]
  },
  {
   "cell_type": "code",
   "execution_count": 6,
   "id": "a47669cb-846c-4359-ad54-d5864dee83b9",
   "metadata": {},
   "outputs": [
    {
     "name": "stdout",
     "output_type": "stream",
     "text": [
      "Introducing our stunning mid-century inspired office chair, the SWC-100/110. This chair is part of a beautiful family of office furniture that includes filing cabinets, desks, bookcases, meeting tables, and more. With several options of shell color and base finishes, you can customize this chair to fit your unique style. \n",
      "\n",
      "The SWC-100/110 is available with plastic back and front upholstery or full upholstery in 10 fabric and 6 leather options. Choose from base finish options such as stainless steel, matte black, gloss white, or chrome. You can also opt for armrests or go without. \n",
      "\n",
      "Constructed with a 5-wheel plastic coated aluminum base and pneumatic chair adjust for easy raise/lower action, this chair is both durable and comfortable. It's suitable for home or business settings and is even qualified for contract use. \n",
      "\n",
      "The SWC-100/110 measures 53 cm in width, 51 cm in depth, and 80 cm in height, with a seat height of 44 cm and seat depth of 41 cm. You can choose between soft or hard-floor caster options and two choices of seat foam densities: medium (1.8 lb/ft3) or high (2.8 lb/ft3). Additionally, you can choose between armless or 8 position PU armrests. \n",
      "\n",
      "The materials used in the construction of this chair are of the highest quality. The shell base glider is made of cast aluminum with modified nylon PA6/PA66 coating and has a shell thickness of 10 mm. The seat is made of HD36 foam. \n",
      "\n",
      "This chair is made in Italy and is sure to add a touch of elegance to any office space. Upgrade your workspace with the SWC-100/110 office chair today.\n"
     ]
    }
   ],
   "source": [
    "prompt = f\"\"\"\n",
    "Your task is to help a marketing team create a description\n",
    "for a retail website of a product based on a technical fact sheet.\n",
    "\n",
    "Write a product description based on the information provided\n",
    "in the technical specifications delimited by triple backticks.\n",
    "\n",
    "Technical specifications: ```{fact_sheet_chair}```\n",
    "\"\"\"\n",
    "print(get_completion(prompt))"
   ]
  },
  {
   "cell_type": "markdown",
   "id": "dbf73455-2785-4c8b-a8ca-93d0af8dbb51",
   "metadata": {},
   "source": [
    "## Issue 1: The text is too long"
   ]
  },
  {
   "cell_type": "code",
   "execution_count": 7,
   "id": "41fb8e30-c6a2-45d6-b10d-c7e64b5ae61b",
   "metadata": {},
   "outputs": [
    {
     "name": "stdout",
     "output_type": "stream",
     "text": [
      "Introducing our mid-century inspired office chair, perfect for home or business settings. Available in a range of shell colors and base finishes, with or without armrests. Choose from 10 fabric and 6 leather options for full or plastic upholstery. With a 5-wheel base and pneumatic chair adjust, it's both stylish and practical. Made in Italy.\n"
     ]
    }
   ],
   "source": [
    "prompt = f\"\"\"\n",
    "Your task is to help a marketing team create a description\n",
    "for a retail website of a product based on a technical fact sheet.\n",
    "\n",
    "Write a product description based on the information provided\n",
    "in the technical specifications delimited by triple backticks.\n",
    "\n",
    "Use at most 50 words.\n",
    "\n",
    "Technical specifications: ```{fact_sheet_chair}```\n",
    "\"\"\"\n",
    "print(get_completion(prompt))"
   ]
  },
  {
   "cell_type": "markdown",
   "id": "a37ccc72-ed01-4e68-9fcf-55df96cf3a11",
   "metadata": {},
   "source": [
    "## Issue 2: Text focuses on wrong details"
   ]
  },
  {
   "cell_type": "code",
   "execution_count": 8,
   "id": "acbbc93e-8e5c-442a-8a08-61ff14b92398",
   "metadata": {},
   "outputs": [
    {
     "name": "stdout",
     "output_type": "stream",
     "text": [
      "Introducing our mid-century inspired office chair, perfect for home or business settings. With a range of shell colors and base finishes, including stainless steel and matte black, this chair is both stylish and functional. Choose from plastic or full upholstery in a variety of fabrics and leathers. Constructed with a 5-wheel plastic coated aluminum base and pneumatic chair adjust, this chair is built to last. Made in Italy.\n"
     ]
    }
   ],
   "source": [
    "prompt = f\"\"\"\n",
    "Your task is to help a marketing team create a description\n",
    "for a retail website of a product based on a technical fact sheet.\n",
    "\n",
    "Write a product description based on the information provided\n",
    "in the technical specifications delimited by triple backticks.\n",
    "\n",
    "The description is intended for furniture retailers,\n",
    "so should be technical in nature and focus on the materials\n",
    "the product is constructed from.\n",
    "\n",
    "Use at most 50 words.\n",
    "\n",
    "Technical specifications: ```{fact_sheet_chair}```\n",
    "\"\"\"\n",
    "print(get_completion(prompt))"
   ]
  },
  {
   "cell_type": "code",
   "execution_count": 9,
   "id": "eadcffe5-bbc7-41c9-a160-bc7661253e87",
   "metadata": {},
   "outputs": [
    {
     "name": "stdout",
     "output_type": "stream",
     "text": [
      "Introducing our mid-century inspired office chair, perfect for home or business settings. With a range of shell colors and base finishes, including stainless steel and matte black, this chair is available with or without armrests and in 10 fabric and 6 leather options. Constructed with a 5-wheel plastic coated aluminum base and HD36 foam seat, it also features pneumatic chair adjust for easy raise/lower action. Every 7-character Product ID: SWC-100, SWC-110.\n"
     ]
    }
   ],
   "source": [
    "prompt = f\"\"\"\n",
    "Your task is to help a marketing team create a description\n",
    "for a retail website of a product based on a technical fact sheet.\n",
    "\n",
    "Write a product description based on the information provided\n",
    "in the technical specifications delimited by triple backticks.\n",
    "\n",
    "The description is intended for furniture retailers,\n",
    "so should be technical in nature and focus on the materials\n",
    "the product is constructed from.\n",
    "\n",
    "At the end of the description include every 7-character Product ID\n",
    "in the product description.\n",
    "\n",
    "Use at most 50 words.\n",
    "\n",
    "Technical specifications: ```{fact_sheet_chair}```\n",
    "\"\"\"\n",
    "print(get_completion(prompt))"
   ]
  },
  {
   "cell_type": "markdown",
   "id": "700b5b5a-1d65-4d80-b45e-2c83d0008352",
   "metadata": {},
   "source": [
    "## Issue 3: Description needs a table of dimensions"
   ]
  },
  {
   "cell_type": "code",
   "execution_count": 12,
   "id": "434214c7-6b4e-46ca-bd9e-5f76be31bcdc",
   "metadata": {},
   "outputs": [
    {
     "name": "stdout",
     "output_type": "stream",
     "text": [
      "<div>\n",
      "<p>Introducing our mid-century inspired office chair, part of a beautiful family of furniture. Available in various shell colors and base finishes, with plastic or full upholstery options in fabric or leather. The chair is constructed with a 5-wheel plastic coated aluminum base and pneumatic chair adjust for easy raise/lower action. Suitable for home or business settings and qualified for contract use. Product ID: SWC-100, SWC-110.</p>\n",
      "</div>\n",
      "\n",
      "<table>\n",
      "  <caption>Product Dimensions</caption>\n",
      "  <tr>\n",
      "    <th>Width</th>\n",
      "    <td>53 cm | 20.87\"</td>\n",
      "  </tr>\n",
      "  <tr>\n",
      "    <th>Depth</th>\n",
      "    <td>51 cm | 20.08\"</td>\n",
      "  </tr>\n",
      "  <tr>\n",
      "    <th>Height</th>\n",
      "    <td>80 cm | 31.50\"</td>\n",
      "  </tr>\n",
      "  <tr>\n",
      "    <th>Seat Height</th>\n",
      "    <td>44 cm | 17.32\"</td>\n",
      "  </tr>\n",
      "  <tr>\n",
      "    <th>Seat Depth</th>\n",
      "    <td>41 cm | 16.14\"</td>\n",
      "  </tr>\n",
      "</table>\n"
     ]
    }
   ],
   "source": [
    "prompt = f\"\"\"\n",
    "Your task is to help a marketing team create a \n",
    "description for a retail website of a product based \n",
    "on a technical fact sheet.\n",
    "\n",
    "Write a product description based on the information \n",
    "provided in the technical specifications delimited by \n",
    "triple backticks.\n",
    "\n",
    "The description is intended for furniture retailers, \n",
    "so should be technical in nature and focus on the \n",
    "materials the product is constructed from.\n",
    "\n",
    "Use at most 50 words.\n",
    "\n",
    "At the end of the description, include every 7-character \n",
    "Product ID in the technical specification.\n",
    "\n",
    "After the description, include a table that gives the \n",
    "product's dimensions. The table should have two columns.\n",
    "In the first column include the name of the dimension. \n",
    "In the second column include the measurements in inches only.\n",
    "\n",
    "Give the table the title 'Product Dimensions'.\n",
    "\n",
    "Format everything as HTML that can be used in a website. \n",
    "Place the description in a <div> element.\n",
    "\n",
    "Technical specifications: ```{fact_sheet_chair}```\n",
    "\"\"\"\n",
    "\n",
    "response = get_completion(prompt)\n",
    "print(response)"
   ]
  },
  {
   "cell_type": "code",
   "execution_count": 13,
   "id": "7c6de5f5-454a-4aa2-aa01-9bc1d7af3464",
   "metadata": {},
   "outputs": [
    {
     "data": {
      "text/html": [
       "<div>\n",
       "<p>Introducing our mid-century inspired office chair, part of a beautiful family of furniture. Available in various shell colors and base finishes, with plastic or full upholstery options in fabric or leather. The chair is constructed with a 5-wheel plastic coated aluminum base and pneumatic chair adjust for easy raise/lower action. Suitable for home or business settings and qualified for contract use. Product ID: SWC-100, SWC-110.</p>\n",
       "</div>\n",
       "\n",
       "<table>\n",
       "  <caption>Product Dimensions</caption>\n",
       "  <tr>\n",
       "    <th>Width</th>\n",
       "    <td>53 cm | 20.87\"</td>\n",
       "  </tr>\n",
       "  <tr>\n",
       "    <th>Depth</th>\n",
       "    <td>51 cm | 20.08\"</td>\n",
       "  </tr>\n",
       "  <tr>\n",
       "    <th>Height</th>\n",
       "    <td>80 cm | 31.50\"</td>\n",
       "  </tr>\n",
       "  <tr>\n",
       "    <th>Seat Height</th>\n",
       "    <td>44 cm | 17.32\"</td>\n",
       "  </tr>\n",
       "  <tr>\n",
       "    <th>Seat Depth</th>\n",
       "    <td>41 cm | 16.14\"</td>\n",
       "  </tr>\n",
       "</table>"
      ],
      "text/plain": [
       "<IPython.core.display.HTML object>"
      ]
     },
     "metadata": {},
     "output_type": "display_data"
    }
   ],
   "source": [
    "from IPython.display import display, HTML\n",
    "display(HTML(response))"
   ]
  },
  {
   "cell_type": "code",
   "execution_count": null,
   "id": "fa89459c-9ac3-480c-9870-56425b849f13",
   "metadata": {},
   "outputs": [],
   "source": []
  }
 ],
 "metadata": {
  "kernelspec": {
   "display_name": "learn.2023-04-28-chatgpt-prompt-engineering",
   "language": "python",
   "name": "python3"
  },
  "language_info": {
   "codemirror_mode": {
    "name": "ipython",
    "version": 3
   },
   "file_extension": ".py",
   "mimetype": "text/x-python",
   "name": "python",
   "nbconvert_exporter": "python",
   "pygments_lexer": "ipython3",
   "version": "3.11.3"
  }
 },
 "nbformat": 4,
 "nbformat_minor": 5
}
