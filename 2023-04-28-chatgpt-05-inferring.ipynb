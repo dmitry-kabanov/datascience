{
 "cells": [
  {
   "cell_type": "markdown",
   "id": "71c219d3-b07e-4f2d-93b7-3862ea5066a9",
   "metadata": {},
   "source": [
    "# Inferring\n",
    "\n",
    "In this lesson, you will infer sentiment and topics from product review and news articles.\n",
    "\n",
    "## Setup"
   ]
  },
  {
   "cell_type": "code",
   "execution_count": 3,
   "id": "2bddab9c-df77-42f5-a1f8-3a9cbd8c3467",
   "metadata": {},
   "outputs": [],
   "source": [
    "import openai\n",
    "import os\n",
    "\n",
    "from dotenv import load_dotenv\n",
    "load_dotenv(\".env\")\n",
    "\n",
    "openai.api_key = os.environ[\"OPENAI_API_KEY\"]"
   ]
  },
  {
   "cell_type": "code",
   "execution_count": 4,
   "id": "a740d026-9e5b-4656-a827-2383775ffc91",
   "metadata": {},
   "outputs": [],
   "source": [
    "def get_completion(prompt, model=\"gpt-3.5-turbo\"):\n",
    "    messages = [{\"role\": \"user\", \"content\": prompt}]\n",
    "    response = openai.ChatCompletion.create(\n",
    "        model=model,\n",
    "        messages=messages,\n",
    "        temperature=0, # this is the degree of randomness of the model's output\n",
    "    )\n",
    "    return response.choices[0].message[\"content\"]"
   ]
  },
  {
   "cell_type": "markdown",
   "id": "b15fb9e7-f04d-4bda-8930-bafddf5ca6b3",
   "metadata": {},
   "source": [
    "## Product review text"
   ]
  },
  {
   "cell_type": "code",
   "execution_count": 3,
   "id": "cea33a91-8920-4648-9a83-cda34caf981a",
   "metadata": {},
   "outputs": [],
   "source": [
    "lamp_review = \"\"\"\n",
    "Needed a nice lamp for my bedroom, and this one had \\\n",
    "additional storage and not too high of a price point. \\\n",
    "Got it fast.  The string to our lamp broke during the \\\n",
    "transit and the company happily sent over a new one. \\\n",
    "Came within a few days as well. It was easy to put \\\n",
    "together.  I had a missing part, so I contacted their \\\n",
    "support and they very quickly got me the missing piece! \\\n",
    "Lumina seems to me to be a great company that cares \\\n",
    "about their customers and products!!\n",
    "\"\"\""
   ]
  },
  {
   "cell_type": "markdown",
   "id": "f02ac495-28c7-4ad4-8e96-f2ad016fbb06",
   "metadata": {},
   "source": [
    "## What is the sentiment of the review"
   ]
  },
  {
   "cell_type": "code",
   "execution_count": 6,
   "id": "ac91ef55-5b11-4774-9160-0f4bf15b76ad",
   "metadata": {},
   "outputs": [
    {
     "name": "stdout",
     "output_type": "stream",
     "text": [
      "1\n"
     ]
    }
   ],
   "source": [
    "prompt = f\"\"\"\n",
    "What is the sentiment of the following review delimited by backticks?\n",
    "`\n",
    "{lamp_review}\n",
    "`\n",
    "Give the answer as 1 for \"positive\" or as 0 for \"negative\".\n",
    "\"\"\"\n",
    "print(get_completion(prompt))"
   ]
  },
  {
   "cell_type": "markdown",
   "id": "9f4890af-0d9e-464a-b590-c819f52a37d4",
   "metadata": {},
   "source": [
    "## Emotions"
   ]
  },
  {
   "cell_type": "code",
   "execution_count": 8,
   "id": "768597e5-084a-4771-8b64-3e365787ab39",
   "metadata": {},
   "outputs": [
    {
     "name": "stdout",
     "output_type": "stream",
     "text": [
      "happy, satisfied, impressed, grateful\n"
     ]
    }
   ],
   "source": [
    "prompt = f\"\"\"\n",
    "Identify emotions that the writer explains in the review,\n",
    "which is denoted by backticks.\n",
    "`\n",
    "{lamp_review}\n",
    "`\n",
    "Give the answer as a lower-case words delimited by commas.\n",
    "\"\"\"\n",
    "print(get_completion(prompt))"
   ]
  },
  {
   "cell_type": "markdown",
   "id": "b006e032-6a57-49a7-b08a-514cca65c858",
   "metadata": {},
   "source": [
    "## Identify anger"
   ]
  },
  {
   "cell_type": "code",
   "execution_count": 13,
   "id": "a66fa0c9-e067-4d99-91c5-6290d263ff75",
   "metadata": {},
   "outputs": [
    {
     "name": "stdout",
     "output_type": "stream",
     "text": [
      "no\n"
     ]
    }
   ],
   "source": [
    "prompt = f\"\"\"\n",
    "Does the author of the review (in backticks) express anger?\n",
    "`\n",
    "{lamp_review}\n",
    "`\n",
    "Give the answer simply as either yes or no, in lowercase without dots\n",
    "\"\"\"\n",
    "print(get_completion(prompt))\n"
   ]
  },
  {
   "cell_type": "markdown",
   "id": "127013af-0da6-414b-bfab-c435c4f3f1dd",
   "metadata": {},
   "source": [
    "## Extract product and company name"
   ]
  },
  {
   "cell_type": "code",
   "execution_count": 16,
   "id": "a571a061-2833-431c-a764-193f1c2e4ee0",
   "metadata": {},
   "outputs": [
    {
     "name": "stdout",
     "output_type": "stream",
     "text": [
      "{\n",
      "  \"Item\": \"Lamp with storage\",\n",
      "  \"Brand\": \"Lumina\"\n",
      "}\n"
     ]
    }
   ],
   "source": [
    "prompt = f\"\"\"\n",
    "Extract from the review:\n",
    "- Item purchased\n",
    "- Company that produced the item\n",
    "Review is delimited by backticks.\n",
    "`\n",
    "{lamp_review}\n",
    "`\n",
    "Make the response as JSON object with keys \"Item\", \"Brand\".\n",
    "Make the values as short as possible.\n",
    "\"\"\"\n",
    "print(get_completion(prompt))"
   ]
  },
  {
   "cell_type": "markdown",
   "id": "2e537254-b4c0-4b7e-9615-f1916391d554",
   "metadata": {},
   "source": [
    "## Multiple tasks at once"
   ]
  },
  {
   "cell_type": "code",
   "execution_count": 17,
   "id": "0168350e-7dec-4327-8e9a-70bc4cb85d8a",
   "metadata": {},
   "outputs": [
    {
     "name": "stdout",
     "output_type": "stream",
     "text": [
      "{\n",
      "    \"Sentiment\": \"positive\",\n",
      "    \"Anger\": false,\n",
      "    \"Item\": \"lamp\",\n",
      "    \"Brand\": \"Lumina\"\n",
      "}\n"
     ]
    }
   ],
   "source": [
    "prompt = f\"\"\"\n",
    "Identify the following from the review delimited by backticks:\n",
    "- Sentiment (as word \"positive\" or \"negative\")\n",
    "- Is the review expressing anger? (true or false)\n",
    "- The name of the item in the review\n",
    "- Company that produced the item\n",
    "\n",
    "Format your response as JSON with keys\n",
    "\"Sentiment\", \"Anger\", \"Item\", \"Brand\".\n",
    "`\n",
    "{lamp_review}\n",
    "`\n",
    "\"\"\"\n",
    "print(get_completion(prompt))"
   ]
  },
  {
   "cell_type": "markdown",
   "id": "8fce7a3b-b59f-45f2-ad91-d9d5ece4c384",
   "metadata": {},
   "source": [
    "## Inferring topics"
   ]
  },
  {
   "cell_type": "code",
   "execution_count": 1,
   "id": "e370fe49-5ea6-4470-994f-17ac81f84147",
   "metadata": {},
   "outputs": [],
   "source": [
    "story = \"\"\"\n",
    "In a recent survey conducted by the government, \n",
    "public sector employees were asked to rate their level \n",
    "of satisfaction with the department they work at. \n",
    "The results revealed that NASA was the most popular \n",
    "department with a satisfaction rating of 95%.\n",
    "\n",
    "One NASA employee, John Smith, commented on the findings, \n",
    "stating, \"I'm not surprised that NASA came out on top. \n",
    "It's a great place to work with amazing people and \n",
    "incredible opportunities. I'm proud to be a part of \n",
    "such an innovative organization.\"\n",
    "\n",
    "The results were also welcomed by NASA's management team, \n",
    "with Director Tom Johnson stating, \"We are thrilled to \n",
    "hear that our employees are satisfied with their work at NASA. \n",
    "We have a talented and dedicated team who work tirelessly \n",
    "to achieve our goals, and it's fantastic to see that their \n",
    "hard work is paying off.\"\n",
    "\n",
    "The survey also revealed that the \n",
    "Social Security Administration had the lowest satisfaction \n",
    "rating, with only 45% of employees indicating they were \n",
    "satisfied with their job. The government has pledged to \n",
    "address the concerns raised by employees in the survey and \n",
    "work towards improving job satisfaction across all departments.\n",
    "\"\"\""
   ]
  },
  {
   "cell_type": "markdown",
   "id": "b20bae3c-33fb-47c6-98ab-7d3b6ca717bd",
   "metadata": {},
   "source": [
    "### Infer 5 topics"
   ]
  },
  {
   "cell_type": "code",
   "execution_count": 7,
   "id": "f7f31805-93f1-4969-b2ba-27dba2ac6f3e",
   "metadata": {},
   "outputs": [
    {
     "name": "stdout",
     "output_type": "stream",
     "text": [
      "['survey', ' public sector employees', ' job satisfaction', ' NASA', ' Social Security Administration']\n"
     ]
    }
   ],
   "source": [
    "prompt = f\"\"\"\n",
    "Determine five topics that are being discussed\n",
    "in the following text, delimited by backticks.\n",
    "\n",
    "Make each topic one or two words long.\n",
    "Format the response as a comma-separated list.\n",
    "\n",
    "`{story}`.\n",
    "\"\"\"\n",
    "topic_list = get_completion(prompt).split(\",\")\n",
    "print(topic_list)"
   ]
  },
  {
   "cell_type": "code",
   "execution_count": 12,
   "id": "1f1444dd-c158-4a85-8957-140ba1c55cb7",
   "metadata": {},
   "outputs": [
    {
     "name": "stdout",
     "output_type": "stream",
     "text": [
      "\"survey\": 1\n",
      "\"public sector employees\": 1\n",
      "\"job satisfaction\": 1\n",
      "\"NASA\": 1\n",
      "\"Social Security Administration\": 1\n",
      "{'survey': 1, 'public sector employees': 1, 'job satisfaction': 1, 'NASA': 1, 'Social Security Administration': 1}\n"
     ]
    }
   ],
   "source": [
    "prompt = f\"\"\"\n",
    "Determine if topics from the list of topics below\n",
    "are being discussed\n",
    "in the following text, delimited by backticks.\n",
    "\n",
    "For each topic, give answer in the format \"topic\": 1 or 0\n",
    "\n",
    "List of topics: {\", \".join(topic_list)}\n",
    "\n",
    "`{story}`.\n",
    "\"\"\"\n",
    "response = get_completion(prompt)\n",
    "print(response)\n",
    "\n",
    "topic_dict = {item.split(\":\")[0].strip(\"\\\"\"): int(item.split(\":\")[1]) for item in response.split(\"\\n\")}\n",
    "print(topic_dict)"
   ]
  },
  {
   "cell_type": "code",
   "execution_count": 15,
   "id": "ea813aac-87d8-45cd-93f1-b1bc0d78456e",
   "metadata": {},
   "outputs": [
    {
     "name": "stdout",
     "output_type": "stream",
     "text": [
      "ALERT: NASA published a new story!\n"
     ]
    }
   ],
   "source": [
    "if topic_dict[\"NASA\"] == 1:\n",
    "    print(\"ALERT: NASA published a new story!\")"
   ]
  },
  {
   "cell_type": "code",
   "execution_count": null,
   "id": "417f9516-a798-4341-bd0f-9efc53167abc",
   "metadata": {},
   "outputs": [],
   "source": []
  }
 ],
 "metadata": {
  "kernelspec": {
   "display_name": "learn.2023-04-28-chatgpt-prompt-engineering",
   "language": "python",
   "name": "python3"
  },
  "language_info": {
   "codemirror_mode": {
    "name": "ipython",
    "version": 3
   },
   "file_extension": ".py",
   "mimetype": "text/x-python",
   "name": "python",
   "nbconvert_exporter": "python",
   "pygments_lexer": "ipython3",
   "version": "3.11.3"
  }
 },
 "nbformat": 4,
 "nbformat_minor": 5
}
