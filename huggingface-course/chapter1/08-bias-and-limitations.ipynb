{
  "nbformat": 4,
  "nbformat_minor": 0,
  "metadata": {
    "colab": {
      "name": "Untitled6.ipynb",
      "provenance": [],
      "collapsed_sections": [],
      "authorship_tag": "ABX9TyOG+57dubNC5zO952JyZlO9"
    },
    "kernelspec": {
      "name": "python3",
      "display_name": "Python 3"
    },
    "language_info": {
      "name": "python"
    }
  },
  "cells": [
    {
      "cell_type": "code",
      "execution_count": 1,
      "metadata": {
        "colab": {
          "base_uri": "https://localhost:8080/",
          "height": 81
        },
        "id": "3vmZfJXCvOQv",
        "outputId": "c93e3fa3-cb9e-4813-abcf-5140c7564d7e"
      },
      "outputs": [
        {
          "output_type": "display_data",
          "data": {
            "text/plain": [
              "<IPython.core.display.HTML object>"
            ],
            "text/html": [
              "<div style=\"font-weight: bold; font-size: 28px\">\n",
              "    Bias and limitations\n",
              "</div>\n",
              "\n",
              "<p>\n",
              "Source: <a href=\"https://huggingface.co/course/chapter1/8?fw=pt\">https://huggingface.co/course/chapter1/8?fw=pt</a>\n",
              "</p>"
            ]
          },
          "metadata": {}
        }
      ],
      "source": [
        "%%html\n",
        "<div style=\"font-weight: bold; font-size: 28px\">\n",
        "    Bias and limitations\n",
        "</div>\n"
      ]
    },
    {
      "cell_type": "markdown",
      "source": [
        "Source: https://huggingface.co/course/chapter1/8?fw=pt\n",
        "\n",
        "One of the big problems with current models is that they have limitations.\n",
        "They trained on the data available on the Internet, and therefore, can pick up biases.\n",
        "\n",
        "For example, the following are the predictions of the work for man and a woman that have gender bias:"
      ],
      "metadata": {
        "id": "91XdflEPwndP"
      }
    },
    {
      "cell_type": "code",
      "source": [
        "!pip install -qq transformers\n",
        "from transformers import pipeline"
      ],
      "metadata": {
        "colab": {
          "base_uri": "https://localhost:8080/"
        },
        "id": "quj5R-VfvZ1p",
        "outputId": "facf3325-ad7c-416e-e719-d79a8599174a"
      },
      "execution_count": 3,
      "outputs": [
        {
          "output_type": "stream",
          "name": "stdout",
          "text": [
            "\u001b[K     |████████████████████████████████| 4.7 MB 12.8 MB/s \n",
            "\u001b[K     |████████████████████████████████| 101 kB 10.3 MB/s \n",
            "\u001b[K     |████████████████████████████████| 596 kB 38.8 MB/s \n",
            "\u001b[K     |████████████████████████████████| 6.6 MB 40.5 MB/s \n",
            "\u001b[?25h"
          ]
        }
      ]
    },
    {
      "cell_type": "code",
      "source": [
        "unmasker = pipeline(\"fill-mask\", model=\"bert-base-uncased\")"
      ],
      "metadata": {
        "id": "3Ziw3hiFwJ7v"
      },
      "execution_count": null,
      "outputs": []
    },
    {
      "cell_type": "code",
      "source": [
        "result = unmasker(\"This man works as a [MASK].\")\n",
        "print([r[\"token_str\"] for r in result])"
      ],
      "metadata": {
        "colab": {
          "base_uri": "https://localhost:8080/"
        },
        "id": "OHRjlM5yvbj-",
        "outputId": "e242c697-1a90-41fa-e299-ab1264aecb1f"
      },
      "execution_count": 11,
      "outputs": [
        {
          "output_type": "stream",
          "name": "stdout",
          "text": [
            "['carpenter', 'lawyer', 'farmer', 'businessman', 'doctor']\n"
          ]
        }
      ]
    },
    {
      "cell_type": "code",
      "source": [
        "result = unmasker(\"This woman works as a [MASK].\")\n",
        "print([r[\"token_str\"] for r in result])"
      ],
      "metadata": {
        "colab": {
          "base_uri": "https://localhost:8080/"
        },
        "id": "_7WLN7nvvqkw",
        "outputId": "5d36ca4e-c7cd-4b33-8bbe-4f2167469bf1"
      },
      "execution_count": 12,
      "outputs": [
        {
          "output_type": "stream",
          "name": "stdout",
          "text": [
            "['nurse', 'maid', 'teacher', 'waitress', 'prostitute']\n"
          ]
        }
      ]
    },
    {
      "cell_type": "markdown",
      "source": [
        "As we can see from the above results, BERT predicts that a man can work a lawyer or a doctor, while a woman can work as a maid or prostitute."
      ],
      "metadata": {
        "id": "t3rz0e6MvzQX"
      }
    }
  ]
}