{
 "cells": [
  {
   "cell_type": "markdown",
   "id": "0a87d985-0e2d-48fe-bef8-1aa227eaad8d",
   "metadata": {},
   "source": [
    "# Introduction\n",
    "\n",
    "We learn here principles of effective prompting for large language models:\n",
    "\n",
    "- Write clear and specific instructions\n",
    "- Give the model time to think"
   ]
  },
  {
   "cell_type": "markdown",
   "id": "1f8119ce-cfc2-4522-847f-042dcdaa6242",
   "metadata": {},
   "source": [
    "## Setup"
   ]
  },
  {
   "cell_type": "code",
   "execution_count": 1,
   "id": "c0ca489b-6cdb-4984-8faa-57bf2d077202",
   "metadata": {},
   "outputs": [],
   "source": [
    "import openai\n",
    "import os\n",
    "\n",
    "from dotenv import load_dotenv\n",
    "\n",
    "load_dotenv(\".env\")\n",
    "\n",
    "openai.api_key = os.environ[\"OPENAI_API_KEY\"]"
   ]
  },
  {
   "cell_type": "code",
   "execution_count": 2,
   "id": "2dda8c33-0933-460b-9784-8a63d449f68b",
   "metadata": {},
   "outputs": [],
   "source": [
    "def get_completion(prompt, model=\"gpt-3.5-turbo\"):\n",
    "    messages = [{\"role\": \"user\", \"content\": prompt}]\n",
    "    response = openai.ChatCompletion.create(\n",
    "        model=model,\n",
    "        messages=messages,\n",
    "        temperature=0  # This is the degree of randomness of the model output\n",
    "    )\n",
    "        \n",
    "    return response.choices[0].message[\"content\"]"
   ]
  },
  {
   "cell_type": "markdown",
   "id": "c0f1d63e-095d-41c6-965d-d17865582b73",
   "metadata": {},
   "source": [
    "# Principle 1\n",
    "\n",
    "## Tactic 1\n",
    "\n",
    "Use delimiters\n",
    "- triple quotes\n",
    "- triple backticks\n",
    "- triple dashes\n",
    "- Angle brackets\n",
    "- XML tags"
   ]
  },
  {
   "cell_type": "code",
   "execution_count": 3,
   "id": "0974b58f-f1d2-4f74-bf73-44772ddeeedb",
   "metadata": {},
   "outputs": [],
   "source": [
    "text = f\"\"\"\n",
    "You should express what you want a model to do by\n",
    "providing instructions that are as clear and\n",
    "specific as you can possibly make them.\n",
    "This will guide the model towards the desired output,\n",
    "and reduce the chances of receiving irrelevant\n",
    "or incorrect responses. Don't confuse writing a\n",
    "clear prompt with writing a short prompt.\n",
    "In many cases, longer prompts provide more clarity\n",
    "and context for the model, which can lead to\n",
    "more detailed and relevant outputs.\n",
    "\"\"\"\n",
    "\n",
    "prompt = f\"\"\"\n",
    "Summarize the text delimited by triple backticks in a single sentence.\n",
    "```{text}```\n",
    "\"\"\""
   ]
  },
  {
   "cell_type": "code",
   "execution_count": 4,
   "id": "ee7eb9c9-4a7f-4849-9375-9aed183995ca",
   "metadata": {},
   "outputs": [
    {
     "name": "stdout",
     "output_type": "stream",
     "text": [
      "\n",
      "Summarize the text delimited by triple backticks in a single sentence.\n",
      "```\n",
      "You should express what you want a model to do by\n",
      "providing instructions that are as clear and\n",
      "specific as you can possibly make them.\n",
      "This will guide the model towards the desired output,\n",
      "and reduce the chances of receiving irrelevant\n",
      "or incorrect responses. Don't confuse writing a\n",
      "clear prompt with writing a short prompt.\n",
      "In many cases, longer prompts provide more clarity\n",
      "and context for the model, which can lead to\n",
      "more detailed and relevant outputs.\n",
      "```\n",
      "\n"
     ]
    }
   ],
   "source": [
    "print(prompt)"
   ]
  },
  {
   "cell_type": "code",
   "execution_count": 5,
   "id": "323b6ead-7ca2-4b82-8ee9-ff5ca894dbc4",
   "metadata": {},
   "outputs": [
    {
     "name": "stdout",
     "output_type": "stream",
     "text": [
      "To guide a model towards the desired output and reduce the chances of irrelevant or incorrect responses, it is important to provide clear and specific instructions, which may require longer prompts for more clarity and context.\n"
     ]
    }
   ],
   "source": [
    "print(get_completion(prompt))"
   ]
  },
  {
   "cell_type": "markdown",
   "id": "84a556af-77b2-4099-a26c-a0e35d78a4e2",
   "metadata": {},
   "source": [
    "## Tactic 2\n",
    "\n",
    "Ask for specific output (HTML, JSON, etc.)"
   ]
  },
  {
   "cell_type": "code",
   "execution_count": 6,
   "id": "65812d9f-1586-4b64-b5d3-64b4837b26f0",
   "metadata": {},
   "outputs": [
    {
     "name": "stdout",
     "output_type": "stream",
     "text": [
      "[\n",
      "  {\n",
      "    \"book_id\": 1,\n",
      "    \"title\": \"The Lost City of Zorath\",\n",
      "    \"author\": \"Aria Blackwood\",\n",
      "    \"genre\": \"Fantasy\"\n",
      "  },\n",
      "  {\n",
      "    \"book_id\": 2,\n",
      "    \"title\": \"The Last Survivors\",\n",
      "    \"author\": \"Ethan Stone\",\n",
      "    \"genre\": \"Science Fiction\"\n",
      "  },\n",
      "  {\n",
      "    \"book_id\": 3,\n",
      "    \"title\": \"The Secret of the Haunted Mansion\",\n",
      "    \"author\": \"Lila Rose\",\n",
      "    \"genre\": \"Mystery\"\n",
      "  }\n",
      "]\n"
     ]
    }
   ],
   "source": [
    "prompt = f\"\"\"\n",
    "Generate a list of three made-up book titles along\n",
    "with their authors and genres.\n",
    "Provide them in JSON format with the following keys:\n",
    "book_id, title, author, genre.\n",
    "\"\"\"\n",
    "print(get_completion(prompt))"
   ]
  },
  {
   "cell_type": "code",
   "execution_count": 7,
   "id": "211dc49c-bc4b-4099-b011-c3b1ba1fdb73",
   "metadata": {},
   "outputs": [
    {
     "name": "stdout",
     "output_type": "stream",
     "text": [
      "The divergence theorem, also known as Gauss's theorem, can be expressed in LaTeX as:\n",
      "\n",
      "\\oint_{\\partial V} \\vec{F} \\cdot \\vec{n} \\, dS = \\iiint_V \\nabla \\cdot \\vec{F} \\, dV\n",
      "\n",
      "where:\n",
      "\n",
      "- \\oint_{\\partial V} denotes the surface integral over the boundary of the volume V\n",
      "- \\vec{F} is a vector field\n",
      "- \\vec{n} is the outward unit normal vector to the surface element dS\n",
      "- \\iiint_V denotes the triple integral over the volume V\n",
      "- \\nabla \\cdot \\vec{F} is the divergence of the vector field \\vec{F}\n",
      "- dV is the volume element.\n"
     ]
    }
   ],
   "source": [
    "prompt = f\"\"\"\n",
    "Generate LaTeX formula for the divergence theorem.\n",
    "\"\"\"\n",
    "print(get_completion(prompt))"
   ]
  },
  {
   "cell_type": "code",
   "execution_count": 32,
   "id": "8e622e19-5dfd-417f-a342-0d4c7e84d743",
   "metadata": {},
   "outputs": [
    {
     "name": "stdout",
     "output_type": "stream",
     "text": [
      "The Euler equations are a set of partial differential equations that describe the motion of an inviscid fluid. They can be written in LaTeX as:\n",
      "\n",
      "\\begin{align*}\n",
      "\\frac{\\partial \\rho}{\\partial t} + \\nabla \\cdot (\\rho \\mathbf{v}) &= 0 \\\\\n",
      "\\frac{\\partial (\\rho \\mathbf{v})}{\\partial t} + \\nabla \\cdot (\\rho \\mathbf{v} \\mathbf{v}) &= -\\nabla p \\\\\n",
      "\\frac{\\partial E}{\\partial t} + \\nabla \\cdot [(E+p)\\mathbf{v}] &= 0\n",
      "\\end{align*}\n",
      "\n",
      "where $\\rho$ is the density of the fluid, $\\mathbf{v}$ is the velocity vector, $p$ is the pressure, and $E$ is the total energy per unit volume.\n"
     ]
    }
   ],
   "source": [
    "prompt = f\"\"\"\n",
    "Generate LaTeX formula for the Euler equations.\n",
    "\"\"\"\n",
    "print(get_completion(prompt))"
   ]
  },
  {
   "cell_type": "code",
   "execution_count": 26,
   "id": "8385bd2f-ae82-4c1b-9f5b-8231c84147d0",
   "metadata": {},
   "outputs": [
    {
     "name": "stdout",
     "output_type": "stream",
     "text": [
      "name: my_env\n",
      "channels:\n",
      "  - defaults\n",
      "dependencies:\n",
      "  - python=3.11\n",
      "  - numpy\n",
      "  - scipy\n",
      "  - matplotlib\n",
      "  - pytest\n"
     ]
    }
   ],
   "source": [
    "prompt = f\"\"\"\n",
    "Generate conda environment.yml file with the following dependencies:\n",
    "python version 3.11, numpy, scipy, matplotlib, pytest.\n",
    "\"\"\"\n",
    "print(get_completion(prompt))"
   ]
  },
  {
   "cell_type": "code",
   "execution_count": 30,
   "id": "9d2cff88-d2d9-41e2-8720-e934354cbfd4",
   "metadata": {},
   "outputs": [
    {
     "name": "stdout",
     "output_type": "stream",
     "text": [
      "name: tensorflow-m1\n",
      "channels:\n",
      "  - apple\n",
      "  - conda-forge\n",
      "dependencies:\n",
      "  - python=3.8\n",
      "  - pip\n",
      "  - tensorflow-macos\n",
      "  - tensorflow-metal-plugin\n",
      "  - numpy\n",
      "  - pandas\n",
      "  - matplotlib\n",
      "  - jupyter\n",
      "  - scikit-learn\n",
      "  - seaborn\n",
      "  - pillow\n",
      "  - h5py\n",
      "  - pydot\n",
      "  - graphviz\n",
      "  - ipykernel\n",
      "  - nb_conda_kernels\n",
      "  - nb_conda\n",
      "  - nbconvert\n",
      "  - nbformat\n",
      "  - notebook\n",
      "  - ipywidgets\n",
      "  - widgetsnbextension\n",
      "  - jupyterlab\n",
      "  - jupyterlab_widgets\n",
      "  - nodejs\n",
      "  - ipympl\n",
      "  - xeus-python\n",
      "  - xeus-cling\n",
      "  - xeus-julia\n",
      "  - xeus-ruby\n",
      "  - xeus-sql\n",
      "  - xeus-tcl\n",
      "  - xeus-xeus\n",
      "  - xeus-xtensor\n",
      "  - xeus-python-extensions\n",
      "  - xeus-cling-extensions\n",
      "  - xeus-julia-extensions\n",
      "  - xeus-ruby-extensions\n",
      "  - xeus-sql-extensions\n",
      "  - xeus-tcl-extensions\n",
      "  - xeus-xeus-extensions\n",
      "  - xeus-xtensor-extensions\n",
      "  - xeus-python-kernel\n",
      "  - xeus-cling-kernel\n",
      "  - xeus-julia-kernel\n",
      "  - xeus-ruby-kernel\n",
      "  - xeus-sql-kernel\n",
      "  - xeus-tcl-kernel\n",
      "  - xeus-xeus-kernel\n",
      "  - xeus-xtensor-kernel\n",
      "  - xeus-python-extensions-kernel\n",
      "  - xeus-cling-extensions-kernel\n",
      "  - xeus-julia-extensions-kernel\n",
      "  - xeus-ruby-extensions-kernel\n",
      "  - xeus-sql-extensions-kernel\n",
      "  - xeus-tcl-extensions-kernel\n",
      "  - xeus-xeus-extensions-kernel\n",
      "  - xeus-xtensor-extensions-kernel\n",
      "  - xeus-python-extensions-clang\n",
      "  - xeus-cling-extensions-clang\n",
      "  - xeus-julia-extensions-clang\n",
      "  - xeus-ruby-extensions-clang\n",
      "  - xeus-sql-extensions-clang\n",
      "  - xeus-tcl-extensions-clang\n",
      "  - xeus-xeus-extensions-clang\n",
      "  - xeus-xtensor-extensions-clang\n",
      "  - xeus-python-extensions-julia\n",
      "  - xeus-cling-extensions-julia\n",
      "  - xeus-julia-extensions-julia\n",
      "  - xeus-ruby-extensions-julia\n",
      "  - xeus-sql-extensions-julia\n",
      "  - xeus-tcl-extensions-julia\n",
      "  - xeus-xeus-extensions-julia\n",
      "  - xeus-xtensor-extensions-julia\n",
      "  - xeus-python-extensions-ruby\n",
      "  - xeus-cling-extensions-ruby\n",
      "  - xeus-julia-extensions-ruby\n",
      "  - xeus-ruby-extensions-ruby\n",
      "  - xeus-sql-extensions-ruby\n",
      "  - xeus-tcl-extensions-ruby\n",
      "  - xeus-xeus-extensions-ruby\n",
      "  - xeus-xtensor-extensions-ruby\n",
      "  - xeus-python-extensions-sql\n",
      "  - xeus-cling-extensions-sql\n",
      "  - xeus-julia-extensions-sql\n",
      "  - xeus-ruby-extensions-sql\n",
      "  - xeus-sql-extensions-sql\n",
      "  - xeus-tcl-extensions-sql\n",
      "  - xeus-xeus-extensions-sql\n",
      "  - xeus-xtensor-extensions-sql\n",
      "  - xeus-python-extensions-tcl\n",
      "  - xeus-cling-extensions-tcl\n",
      "  - xeus-julia-extensions-tcl\n",
      "  - xeus-ruby-extensions-tcl\n",
      "  - xeus-sql-extensions-tcl\n",
      "  - xeus-tcl-extensions-tcl\n",
      "  - xeus-xeus-extensions-tcl\n",
      "  - xeus-xtensor-extensions-tcl\n",
      "  - xeus-python-extensions-xeus\n",
      "  - xeus-cling-extensions-xeus\n",
      "  - xeus-julia-extensions-xeus\n",
      "  - xeus-ruby-extensions-xeus\n",
      "  - xeus-sql-extensions-xeus\n",
      "  - xeus-tcl-extensions-xeus\n",
      "  - xeus-xeus-extensions-xeus\n",
      "  - xeus-xtensor-extensions-xeus\n",
      "  - xeus-python-extensions-xtensor\n",
      "  - xeus-cling-extensions-xtensor\n",
      "  - xeus-julia-extensions-xtensor\n",
      "  - xeus-ruby-extensions-xtensor\n",
      "  - xeus-sql-extensions-xtensor\n",
      "  - xeus-tcl-extensions-xtensor\n",
      "  - xeus-xeus-extensions-xtensor\n",
      "  - xeus-xtensor-extensions-xtensor\n",
      "  - xeus-python-extensions-clang-kernel\n",
      "  - xeus-cling-extensions-clang-kernel\n",
      "  - xeus-julia-extensions-clang-kernel\n",
      "  - xeus-ruby-extensions-clang-kernel\n",
      "  - xeus-sql-extensions-clang-kernel\n",
      "  - xeus-tcl-extensions-clang-kernel\n",
      "  - xeus-xeus-extensions-clang-kernel\n",
      "  - xeus-xtensor-extensions-clang-kernel\n",
      "  - xeus-python-extensions-julia-kernel\n",
      "  - xeus-cling-extensions-julia-kernel\n",
      "  - xeus-julia-extensions-julia-kernel\n",
      "  - xeus-ruby-extensions-julia-kernel\n",
      "  - xeus-sql-extensions-julia-kernel\n",
      "  - xeus-tcl-extensions-julia-kernel\n",
      "  - xeus-xeus-extensions-julia-kernel\n",
      "  - xeus-xtensor-extensions-julia-kernel\n",
      "  - xeus-python-extensions-ruby-kernel\n",
      "  - xeus-cling-extensions-ruby-kernel\n",
      "  - xeus-julia-extensions-ruby-kernel\n",
      "  - xeus-ruby-extensions-ruby-kernel\n",
      "  - xeus-sql-extensions-ruby-kernel\n",
      "  - xeus-tcl-extensions-ruby-kernel\n",
      "  - xeus-xeus-extensions-ruby-kernel\n",
      "  - xeus-xtensor-extensions-ruby-kernel\n",
      "  - xeus-python-extensions-sql-kernel\n",
      "  - xeus-cling-extensions-sql-kernel\n",
      "  - xeus-julia-extensions-sql-kernel\n",
      "  - xeus-ruby-extensions-sql-kernel\n",
      "  - xeus-sql-extensions-sql-kernel\n",
      "  - xeus-tcl-extensions-sql-kernel\n",
      "  - xeus-xeus-extensions-sql-kernel\n",
      "  - xeus-xtensor-extensions-sql-kernel\n",
      "  - xeus-python-extensions-tcl-kernel\n",
      "  - xeus-cling-extensions-tcl-kernel\n",
      "  - xeus-julia-extensions-tcl-kernel\n",
      "  - xeus-ruby-extensions-tcl-kernel\n",
      "  - xeus-sql-extensions-tcl-kernel\n",
      "  - xeus-tcl-extensions-tcl-kernel\n",
      "  - xeus-xeus-extensions-tcl-kernel\n",
      "  - xeus-xtensor-extensions-tcl-kernel\n",
      "  - xeus-python-extensions-xeus-kernel\n",
      "  - xeus-cling-extensions-xeus-kernel\n",
      "  - xeus-julia-extensions-xeus-kernel\n",
      "  - xeus-ruby-extensions-xeus-kernel\n",
      "  - xeus-sql-extensions-xeus-kernel\n",
      "  - xeus-tcl-extensions-xeus-kernel\n",
      "  - xeus-xeus-extensions-xeus-kernel\n",
      "  - xeus-xtensor-extensions-xeus-kernel\n",
      "  - xeus-python-extensions-xtensor-kernel\n",
      "  - xeus-cling-extensions-xtensor-kernel\n",
      "  - xeus-julia-extensions-xtensor-kernel\n",
      "  - xeus-ruby-extensions-xtensor-kernel\n",
      "  - xeus-sql-extensions-xtensor-kernel\n",
      "  - xeus-tcl-extensions-xtensor-kernel\n",
      "  - xeus-xeus-extensions-xtensor-kernel\n",
      "  - xeus-xtensor-extensions-xtensor-kernel\n",
      "  - xeus-python-extensions-clang-clang\n",
      "  - xeus-cling-extensions-clang-clang\n",
      "  - xeus-julia-extensions-clang-clang\n",
      "  - xeus-ruby-extensions-clang-clang\n",
      "  - xeus-sql-extensions-clang-clang\n",
      "  - xeus-tcl-extensions-clang-clang\n",
      "  - xeus-xeus-extensions-clang-clang\n",
      "  - xeus-xtensor-extensions-clang-clang\n",
      "  - xeus-python-extensions-julia-clang\n",
      "  - xeus-cling-extensions-julia-clang\n",
      "  - xeus-julia-extensions-julia-clang\n",
      "  - xeus-ruby-extensions-julia-clang\n",
      "  - xeus-sql-extensions-julia-clang\n",
      "  - xeus-tcl-extensions-julia-clang\n",
      "  - xeus-xeus-extensions-julia-clang\n",
      "  - xeus-xtensor-extensions-julia-clang\n",
      "  - xeus-python-extensions-ruby-clang\n",
      "  - xeus-cling-extensions-ruby-clang\n",
      "  - xeus-julia-extensions-ruby-clang\n",
      "  - xeus-ruby-extensions-ruby-clang\n",
      "  - xeus-sql-extensions-ruby-clang\n",
      "  - xeus-tcl-extensions-ruby-clang\n",
      "  - xeus-xeus-extensions-ruby-clang\n",
      "  - xeus-xtensor-extensions-ruby-clang\n",
      "  - xeus-python-extensions-sql-clang\n",
      "  - xeus-cling-extensions-sql-clang\n",
      "  - xeus-julia-extensions-sql-clang\n",
      "  - xeus-ruby-extensions-sql-clang\n",
      "  - xeus-sql-extensions-sql-clang\n",
      "  - xeus-tcl-extensions-sql-clang\n",
      "  - xeus-xeus-extensions-sql-clang\n",
      "  - xeus-xtensor-extensions-sql-clang\n",
      "  - xeus-python-extensions-tcl-clang\n",
      "  - xeus-cling-extensions-tcl-clang\n",
      "  - xeus-julia-extensions-tcl-clang\n",
      "  - xeus-ruby-extensions-tcl-clang\n",
      "  - xeus-sql-extensions-tcl-clang\n",
      "  - xeus-tcl-extensions-tcl-clang\n",
      "  - xeus-xeus-extensions-tcl-clang\n",
      "  - xeus-xtensor-extensions-tcl-clang\n",
      "  - xeus-python-extensions-xeus-clang\n",
      "  - xeus-cling-extensions-xeus-clang\n",
      "  - xeus-julia-extensions-xeus-clang\n",
      "  - xeus-ruby-extensions-xeus-clang\n",
      "  - xeus-sql-extensions-xeus-clang\n",
      "  - xeus-tcl-extensions-xeus-clang\n",
      "  - xeus-xeus-extensions-xeus-clang\n",
      "  - xeus-xtensor-extensions-xeus-clang\n",
      "  - xeus-python-extensions-xtensor-clang\n",
      "  - xeus-cling-extensions-xtensor-clang\n",
      "  - xeus-julia-extensions-xtensor-clang\n",
      "  - xeus-ruby-extensions-xtensor-clang\n",
      "  - xeus-sql-extensions-xtensor-clang\n",
      "  - xeus-tcl-extensions-xtensor-clang\n",
      "  - xeus-xeus-extensions-xtensor-clang\n",
      "  - xeus-xtensor-extensions-xtensor-clang\n",
      "  - xeus-python-extensions-clang-julia\n",
      "  - xeus-cling-extensions-clang-julia\n",
      "  - xeus-julia-extensions-clang-julia\n",
      "  - xeus-ruby-extensions-clang-julia\n",
      "  - xeus-sql-extensions-clang-julia\n",
      "  - xeus-tcl-extensions-clang-julia\n",
      "  - xeus-xeus-extensions-clang-julia\n",
      "  - xeus-xtensor-extensions-clang-julia\n",
      "  - xeus-python-extensions-clang-ruby\n",
      "  - xeus-cling-extensions-clang-ruby\n",
      "  - xeus-julia-extensions-clang-ruby\n",
      "  - xeus-ruby-extensions-clang-ruby\n",
      "  - xeus-sql-extensions-clang-ruby\n",
      "  - xeus-tcl-extensions-clang-ruby\n",
      "  - xeus-xeus-extensions-clang-ruby\n",
      "  - xeus-xtensor-extensions-clang-ruby\n",
      "  - xeus-python-extensions-clang-sql\n",
      "  - xeus-cling-extensions-clang-sql\n",
      "  - xeus-julia-extensions-clang-sql\n",
      "  - xeus-ruby-extensions-clang-sql\n",
      "  - xeus-sql-extensions-clang-sql\n",
      "  - xeus-tcl-extensions-clang-sql\n",
      "  - xeus-xeus-extensions-clang-sql\n",
      "  - xeus-xtensor-extensions-clang-sql\n",
      "  - xeus-python-extensions-clang-tcl\n",
      "  - xeus-cling-extensions-clang-tcl\n",
      "  - xeus-julia-extensions-clang-tcl\n",
      "  - xeus-ruby-extensions-clang-tcl\n",
      "  - xeus-sql-extensions-clang-tcl\n",
      "  - xeus-tcl-extensions-clang-tcl\n",
      "  - xeus-xeus-extensions-clang-tcl\n",
      "  - xeus-xtensor-extensions-clang-tcl\n",
      "  - xeus-python-extensions-clang-xeus\n",
      "  - xeus-cling-extensions-clang-xeus\n",
      "  - xeus-julia-extensions-clang-xeus\n",
      "  - xeus-ruby-extensions-clang-xeus\n",
      "  - xeus-sql-extensions-clang-xeus\n",
      "  - xeus-tcl-extensions-clang-xeus\n",
      "  - xeus-xeus-extensions-clang-xeus\n",
      "  - xeus-xtensor-extensions-clang-xeus\n",
      "  - xeus-python-extensions-clang-xtensor\n",
      "  - xeus-cling-extensions-clang-xtensor\n",
      "  - xeus-julia-extensions-clang-xtensor\n",
      "  - xeus-ruby-extensions-clang-xtensor\n",
      "  - xeus-sql-extensions-clang-xtensor\n",
      "  - xeus-tcl-extensions-clang-xtensor\n",
      "  - xeus-xeus-extensions-clang-xtensor\n",
      "  - xeus-xtensor-extensions-clang-xtensor\n"
     ]
    }
   ],
   "source": [
    "prompt = f\"\"\"\n",
    "Generate conda environment.yml for installing TensorFlow on Apple M1.\n",
    "Use instructions from https://developer.apple.com/metal/tensorflow-plugin/\n",
    "\"\"\"\n",
    "print(get_completion(prompt))"
   ]
  },
  {
   "cell_type": "markdown",
   "id": "7007233c-fd03-4dfa-b777-43ad7bfd5f13",
   "metadata": {},
   "source": [
    "As we can see from the above, ChatGPT sometimes can go crazy. And this is sad."
   ]
  },
  {
   "cell_type": "markdown",
   "id": "1761b459-ff23-4927-b6a2-c8b62a5a7e44",
   "metadata": {},
   "source": [
    "## Tactic 3: Check whether conditions are satisfied"
   ]
  },
  {
   "cell_type": "code",
   "execution_count": 8,
   "id": "cff52361-c7d0-4466-afc3-c0a036215185",
   "metadata": {},
   "outputs": [
    {
     "name": "stdout",
     "output_type": "stream",
     "text": [
      "Completion for Text 1: \n",
      "Step 1 - Get some water boiling.\n",
      "Step 2 - Grab a cup and put a tea bag in it.\n",
      "Step 3 - Once the water is hot enough, pour it over the tea bag.\n",
      "Step 4 - Let it sit for a bit so the tea can steep.\n",
      "Step 5 - After a few minutes, take out the tea bag.\n",
      "Step 6 - Add some sugar or milk to taste.\n",
      "Step 7 - Enjoy your delicious cup of tea!\n"
     ]
    }
   ],
   "source": [
    "text_1 = f\"\"\"\n",
    "Making a cup of tea is easy! First, you need to get some \\\n",
    "water boiling. While that's happening, \\\n",
    "grab a cup and put a tea bag in it. Once the water is \\\n",
    "hot enough, just pour it over the tea bag. \\\n",
    "Let it sit for a bit so the tea can steep. After a \\\n",
    "few minutes, take out the tea bag. If you \\\n",
    "like, you can add some sugar or milk to taste. \\\n",
    "And that's it! You've got yourself a delicious \\\n",
    "cup of tea to enjoy.\n",
    "\"\"\"\n",
    "prompt = f\"\"\"\n",
    "You will be provided with text delimited by triple quotes.\n",
    "If it containes a sequence of instructions, \\\n",
    "re-write those instructions in the following format:\n",
    "\n",
    "Step 1 - ...\n",
    "Step 2 - ...\n",
    "...\n",
    "Step N - ...\n",
    "\n",
    "If the text does not contain a sequence of instructions, \\\n",
    "then simply write \\\"No steps provided.\\\"\n",
    "\n",
    "\\\"\\\"\\\"{text_1}\\\"\\\"\\\"\n",
    "\"\"\"\n",
    "response = get_completion(prompt)\n",
    "print(\"Completion for Text 1: \")\n",
    "print(response)"
   ]
  },
  {
   "cell_type": "markdown",
   "id": "363aa03c-e757-44e1-b77b-9b4d2df9c425",
   "metadata": {},
   "source": [
    "### Text without steps"
   ]
  },
  {
   "cell_type": "code",
   "execution_count": 9,
   "id": "96c8828c-1681-4da6-b150-127495da1a4b",
   "metadata": {},
   "outputs": [
    {
     "name": "stdout",
     "output_type": "stream",
     "text": [
      "Completion for Text 2:\n",
      "No steps provided.\n"
     ]
    }
   ],
   "source": [
    "text_2 = f\"\"\"\n",
    "The sun is shining brightly today, and the birds are \\\n",
    "singing. It's a beautiful day to go for a \\ \n",
    "walk in the park. The flowers are blooming, and the \\ \n",
    "trees are swaying gently in the breeze. People \\ \n",
    "are out and about, enjoying the lovely weather. \\ \n",
    "Some are having picnics, while others are playing \\ \n",
    "games or simply relaxing on the grass. It's a \\ \n",
    "perfect day to spend time outdoors and appreciate the \\ \n",
    "beauty of nature.\n",
    "\"\"\"\n",
    "prompt = f\"\"\"\n",
    "You will be provided with text delimited by triple quotes. \n",
    "If it contains a sequence of instructions, \\ \n",
    "re-write those instructions in the following format:\n",
    "\n",
    "Step 1 - ...\n",
    "Step 2 - …\n",
    "…\n",
    "Step N - …\n",
    "\n",
    "If the text does not contain a sequence of instructions, \\ \n",
    "then simply write \\\"No steps provided.\\\"\n",
    "\n",
    "\\\"\\\"\\\"{text_2}\\\"\\\"\\\"\n",
    "\"\"\"\n",
    "response = get_completion(prompt)\n",
    "print(\"Completion for Text 2:\")\n",
    "print(response)"
   ]
  },
  {
   "cell_type": "markdown",
   "id": "09b59d61-f71c-4b11-8e6d-341c19450c36",
   "metadata": {},
   "source": [
    "## Tactic 4: Few-shot prompting\n",
    "\n",
    "Give successful examples of completing tasks.\n",
    "Then ask the model to perform the task."
   ]
  },
  {
   "cell_type": "code",
   "execution_count": 10,
   "id": "e80ec816-1d1c-4f5b-8b75-eceea49c8811",
   "metadata": {},
   "outputs": [
    {
     "name": "stdout",
     "output_type": "stream",
     "text": [
      "<grandparent>: Resilience is like a tree that bends with the wind but never breaks. It is the ability to bounce back from adversity and keep moving forward, even when things get tough. Just like a tree that grows stronger with each storm it weathers, resilience is a quality that can be developed and strengthened over time.\n"
     ]
    }
   ],
   "source": [
    "prompt = f\"\"\"\n",
    "Your task is to answer in a consistent style.\n",
    "\n",
    "<child>: Teach me about patience.\n",
    "\n",
    "<grandparent>: The river that carves the deepest \\ \n",
    "valley flows from a modest spring; the \\ \n",
    "grandest symphony originates from a single note; \\ \n",
    "the most intricate tapestry begins with a solitary thread.\n",
    "\n",
    "<child>: Teach me about resilience.\n",
    "\"\"\"\n",
    "response = get_completion(prompt)\n",
    "print(response)"
   ]
  },
  {
   "cell_type": "markdown",
   "id": "4480a82c-b79a-45f3-91a2-06d1cfb63dd4",
   "metadata": {},
   "source": [
    "# Principle 2\n",
    "\n",
    "Give the model time to think"
   ]
  },
  {
   "cell_type": "markdown",
   "id": "c125dd42-c838-416b-ac5d-8cb1049d2297",
   "metadata": {},
   "source": [
    "## Tactic 1: Specify the steps to complete a task\n",
    "\n",
    "Step 1: ...\\\n",
    "... \\\n",
    "Step N: ...\n",
    "\n",
    "Emphasis: /asdf/, bold: **bold**, italic: __asdfjkl;__, italic: *asdf*"
   ]
  },
  {
   "cell_type": "code",
   "execution_count": 12,
   "id": "610d4897-5219-47c1-bea3-4497442e5145",
   "metadata": {},
   "outputs": [
    {
     "name": "stdout",
     "output_type": "stream",
     "text": [
      "1 - Siblings Jack and Jill go on a quest to fetch water from a hilltop well, but misfortune strikes and they tumble down the hill, yet their adventurous spirits remain undimmed.\n",
      "2 - Les frères et sœurs Jack et Jill partent en quête d'eau d'un puits au sommet d'une colline, mais un malheur frappe et ils tombent en bas de la colline, mais leur esprit d'aventure reste intact.\n",
      "3 - Jack, Jill\n",
      "4 - {\n",
      "     \"french_summary\": \"Les frères et sœurs Jack et Jill partent en quête d'eau d'un puits au sommet d'une colline, mais un malheur frappe et ils tombent en bas de la colline, mais leur esprit d'aventure reste intact.\",\n",
      "     \"num_names\": 2\n",
      "   }\n"
     ]
    }
   ],
   "source": [
    "text = f\"\"\"\n",
    "In a charming village, siblings Jack and Jill set out on \\ \n",
    "a quest to fetch water from a hilltop \\ \n",
    "well. As they climbed, singing joyfully, misfortune \\ \n",
    "struck—Jack tripped on a stone and tumbled \\ \n",
    "down the hill, with Jill following suit. \\ \n",
    "Though slightly battered, the pair returned home to \\ \n",
    "comforting embraces. Despite the mishap, \\ \n",
    "their adventurous spirits remained undimmed, and they \\ \n",
    "continued exploring with delight.\n",
    "\"\"\"\n",
    "prompt_1 = f\"\"\"\n",
    "Perform the following actions:\n",
    "1 - Summarize the following text delimited by backticks in one sentence.\n",
    "2 - Translate the summary into French.\n",
    "3 - List each name in the French summary.\n",
    "4 - Output a json object that contains keys: french_summary, num_names.\n",
    "\n",
    "Separate your answers with line breaks.\n",
    "\n",
    "Text:\n",
    "`{text}`\n",
    "\"\"\"\n",
    "print(get_completion(prompt_1))"
   ]
  },
  {
   "cell_type": "markdown",
   "id": "c9f30edc-4e6f-4dbf-8907-199436c672ff",
   "metadata": {},
   "source": [
    "### Ask for output in the specified format"
   ]
  },
  {
   "cell_type": "code",
   "execution_count": 15,
   "id": "49e648a7-93c5-4ac8-84b5-d93203c68043",
   "metadata": {},
   "outputs": [
    {
     "name": "stdout",
     "output_type": "stream",
     "text": [
      "Summary: Jack and Jill go on a quest to fetch water but suffer a mishap on the way, yet remain undeterred in their adventurous spirits. \n",
      "Translation: Jack et Jill partent en quête d'eau mais subissent un accident en chemin, mais restent indéfectibles dans leur esprit d'aventure.\n",
      "Names: Jack, Jill\n",
      "Output JSON: {\"french_summary\": \"Jack et Jill partent en quête d'eau mais subissent un accident en chemin, mais restent indéfectibles dans leur esprit d'aventure.\", \"num_names\": 2}\n"
     ]
    }
   ],
   "source": [
    "prompt_2 = f\"\"\"\n",
    "Your task is to perform the following actions:\n",
    "1 - Summarize the following text delimited by <> with 1 sentence.\n",
    "2 - Translate the summary into French.\n",
    "3 - List each name in the French summary.\n",
    "4 - Output a json object that contains the following keys:\n",
    "french_summary, num_names.\n",
    "\n",
    "Use the following format:\n",
    "Text: <text to summarize>\n",
    "Summary: <summary>\n",
    "Translation: <summary translation>\n",
    "Names: <list of names in Italian summary>\n",
    "Output JSON: <json with summary and num_names>\n",
    "\n",
    "Text to summarize: <{text}>\n",
    "\"\"\"\n",
    "print(get_completion(prompt_2))"
   ]
  },
  {
   "cell_type": "markdown",
   "id": "dcc6a1b1-e980-491d-8ba6-9d00cef0384a",
   "metadata": {},
   "source": [
    "## Tactic 2: Instruct the model to work out its own solution before rushing to a conclusion"
   ]
  },
  {
   "cell_type": "code",
   "execution_count": 16,
   "id": "8543a690-daa0-4fb1-838e-3ec5c6672656",
   "metadata": {},
   "outputs": [
    {
     "name": "stdout",
     "output_type": "stream",
     "text": [
      "The student's solution is correct.\n"
     ]
    }
   ],
   "source": [
    "prompt = f\"\"\"\n",
    "Determine if the student's solution is correct or not.\n",
    "\n",
    "Question:\n",
    "I'm building a solar power installation and I need \\\n",
    " help working out the financials. \n",
    "- Land costs $100 / square foot\n",
    "- I can buy solar panels for $250 / square foot\n",
    "- I negotiated a contract for maintenance that will cost \\ \n",
    "me a flat $100k per year, and an additional $10 / square \\\n",
    "foot\n",
    "What is the total cost for the first year of operations \n",
    "as a function of the number of square feet.\n",
    "\n",
    "Student's Solution:\n",
    "Let x be the size of the installation in square feet.\n",
    "Costs:\n",
    "1. Land cost: 100x\n",
    "2. Solar panel cost: 250x\n",
    "3. Maintenance cost: 100,000 + 100x\n",
    "Total cost: 100x + 250x + 100,000 + 100x = 450x + 100,000\n",
    "\"\"\"\n",
    "print(get_completion(prompt))"
   ]
  },
  {
   "cell_type": "markdown",
   "id": "32c2bb79-e200-4a86-9e71-7e23679031c2",
   "metadata": {},
   "source": [
    "**Note that the models says incorrectly that the student's solution is correct**\n",
    "\n",
    "To fix it, we instruct the model to work out the solution first and then compare it to the student's solution."
   ]
  },
  {
   "cell_type": "code",
   "execution_count": 17,
   "id": "85d29724-169b-4987-afe1-af4ad9a4b546",
   "metadata": {},
   "outputs": [
    {
     "name": "stdout",
     "output_type": "stream",
     "text": [
      "Steps to work out the solution and your solution here:\n",
      "Let x be the size of the installation in square feet.\n",
      "Costs:\n",
      "1. Land cost: 100x\n",
      "2. Solar panel cost: 250x\n",
      "3. Maintenance cost: 100,000 + 10x\n",
      "Total cost: 100x + 250x + 100,000 + 10x = 360x + 100,000\n",
      "\n",
      "Is the student's solution the same as the actual solution just calculated:\n",
      "No\n",
      "\n",
      "Student grade:\n",
      "Incorrect\n"
     ]
    }
   ],
   "source": [
    "prompt = f\"\"\"\n",
    "Your task is to determine if the student's solution \\\n",
    "is correct or not.\n",
    "To solve the problem do the following:\n",
    "- First, work out your own solution to the problem.\n",
    "- Then compare your solution to the student's solution \\\n",
    "and evaluate if the student's solution is correct or not. \\\n",
    "Don't decide if the student's solution is correct until \\\n",
    "you have done the problem yourself.\n",
    "\n",
    "Use the following format:\n",
    "Question:\n",
    "```\n",
    "question here\n",
    "```\n",
    "Student's solution:\n",
    "```\n",
    "student's solution here\n",
    "```\n",
    "Actual soltuion:\n",
    "```\n",
    "Steps to work out the solution and your solution here\n",
    "```\n",
    "Is the student's solution the same as the actual solution \\\n",
    "just calculated:\n",
    "```\n",
    "yes or no\n",
    "```\n",
    "Student grade:\n",
    "```\n",
    "correct or incorrect\n",
    "```\n",
    "\n",
    "Question:\n",
    "```\n",
    "I'm building a solar power installation and I need help \\\n",
    "working out the financials. \n",
    "- Land costs $100 / square foot\n",
    "- I can buy solar panels for $250 / square foot\n",
    "- I negotiated a contract for maintenance that will cost \\\n",
    "me a flat $100k per year, and an additional $10 / square \\\n",
    "foot\n",
    "What is the total cost for the first year of operations \\\n",
    "as a function of the number of square feet.\n",
    "```\n",
    "Student's solution:\n",
    "```\n",
    "Let x be the size of the installation in square feet.\n",
    "Costs:\n",
    "1. Land cost: 100x\n",
    "2. Solar panel cost: 250x\n",
    "3. Maintenance cost: 100,000 + 100x\n",
    "Total cost: 100x + 250x + 100,000 + 100x = 450x + 100,000\n",
    "```\n",
    "Actual solution:\n",
    "\"\"\"\n",
    "print(get_completion(prompt))"
   ]
  },
  {
   "cell_type": "markdown",
   "id": "40e16aa3-d23f-4e0f-aff6-d741eaa33f43",
   "metadata": {},
   "source": [
    "# Model limitations: Hallucinations\n",
    "\n",
    "Boie is a real company, but there is no toothbrush like that."
   ]
  },
  {
   "cell_type": "code",
   "execution_count": 18,
   "id": "c11ca14f-7ea5-4829-bfd2-0db083e912b9",
   "metadata": {},
   "outputs": [
    {
     "name": "stdout",
     "output_type": "stream",
     "text": [
      "The AeroGlide UltraSlim Smart Toothbrush by Boie is a high-tech toothbrush that uses advanced sonic technology to provide a deep and thorough clean. It features a slim and sleek design that makes it easy to hold and maneuver, and it comes with a range of smart features that help you optimize your brushing routine.\n",
      "\n",
      "One of the key features of the AeroGlide UltraSlim Smart Toothbrush is its advanced sonic technology, which uses high-frequency vibrations to break up plaque and bacteria on your teeth and gums. This technology is highly effective at removing even the toughest stains and buildup, leaving your teeth feeling clean and refreshed.\n",
      "\n",
      "In addition to its sonic technology, the AeroGlide UltraSlim Smart Toothbrush also comes with a range of smart features that help you optimize your brushing routine. These include a built-in timer that ensures you brush for the recommended two minutes, as well as a pressure sensor that alerts you if you're brushing too hard.\n",
      "\n",
      "Overall, the AeroGlide UltraSlim Smart Toothbrush by Boie is a highly advanced and effective toothbrush that is perfect for anyone looking to take their oral hygiene to the next level. With its advanced sonic technology and smart features, it provides a deep and thorough clean that leaves your teeth feeling fresh and healthy.\n"
     ]
    }
   ],
   "source": [
    "prompt = f\"\"\"\n",
    "Tell me about AeroGlide UltraSlim Smart Toothbrush by Boie\n",
    "\"\"\"\n",
    "response = get_completion(prompt)\n",
    "print(response)"
   ]
  },
  {
   "cell_type": "code",
   "execution_count": null,
   "id": "d29ef714-e0e8-4508-9d5f-01b538a66270",
   "metadata": {},
   "outputs": [],
   "source": []
  }
 ],
 "metadata": {
  "kernelspec": {
   "display_name": "learn.2023-04-28-chatgpt-prompt-engineering",
   "language": "python",
   "name": "python3"
  },
  "language_info": {
   "codemirror_mode": {
    "name": "ipython",
    "version": 3
   },
   "file_extension": ".py",
   "mimetype": "text/x-python",
   "name": "python",
   "nbconvert_exporter": "python",
   "pygments_lexer": "ipython3",
   "version": "3.11.3"
  }
 },
 "nbformat": 4,
 "nbformat_minor": 5
}
