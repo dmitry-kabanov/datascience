{
  "nbformat": 4,
  "nbformat_minor": 0,
  "metadata": {
    "colab": {
      "name": "2022-06-24-lstm-in-keras.ipynb",
      "provenance": [],
      "authorship_tag": "ABX9TyNJj+bBg0TgRHn/q8ZYtPLJ",
      "include_colab_link": true
    },
    "kernelspec": {
      "name": "python3",
      "display_name": "Python 3"
    },
    "language_info": {
      "name": "python"
    }
  },
  "cells": [
    {
      "cell_type": "markdown",
      "metadata": {
        "id": "view-in-github",
        "colab_type": "text"
      },
      "source": [
        "<a href=\"https://colab.research.google.com/github/dmitry-kabanov/datascience/blob/main/2022-06-24-lstm-in-keras.ipynb\" target=\"_parent\"><img src=\"https://colab.research.google.com/assets/colab-badge.svg\" alt=\"Open In Colab\"/></a>"
      ]
    },
    {
      "cell_type": "markdown",
      "source": [
        "# Using LSTM in Keras and Tensorflow 2\n",
        "\n",
        "Based on the materials by Christian Versloot from here: https://github.com/christianversloot/machine-learning-articles/blob/main/build-an-lstm-model-with-tensorflow-and-keras.md#full-model-code"
      ],
      "metadata": {
        "id": "w5uuzu7lgqRY"
      }
    },
    {
      "cell_type": "code",
      "source": [
        "import tensorflow as tf\n",
        "\n",
        "from tensorflow.keras.datasets import imdb\n",
        "from tensorflow.keras.layers import Embedding, Dense, LSTM\n",
        "from tensorflow.keras.losses import BinaryCrossentropy\n",
        "from tensorflow.keras.models import Sequential\n",
        "from tensorflow.keras.optimizers import Adam\n",
        "from tensorflow.keras.preprocessing.sequence import pad_sequences"
      ],
      "metadata": {
        "id": "H7xK9-8ihAll"
      },
      "execution_count": 7,
      "outputs": []
    },
    {
      "cell_type": "code",
      "source": [
        "# Model configuration\n",
        "additional_metrics = [\"accuracy\"]\n",
        "batch_size = 128\n",
        "embedding_output_dims = 15\n",
        "loss_fn = BinaryCrossentropy()\n",
        "max_sequence_length = 300\n",
        "num_distinct_words = 5000\n",
        "epochs = 5\n",
        "optimizer = Adam()\n",
        "validation_split = 0.20\n",
        "verbosity_mode = 1\n"
      ],
      "metadata": {
        "id": "DHUhiSlChc4k"
      },
      "execution_count": 8,
      "outputs": []
    },
    {
      "cell_type": "markdown",
      "source": [
        "## Load and prepare data"
      ],
      "metadata": {
        "id": "Ho-NCHn-i1Pi"
      }
    },
    {
      "cell_type": "code",
      "source": [
        "(x_train, y_train), (x_test, y_test) = imdb.load_data(num_words=num_distinct_words)\n",
        "print(f\"x_train.shape: {x_train.shape}\")\n",
        "print(f\"x_test.shape: {x_test.shape}\")"
      ],
      "metadata": {
        "colab": {
          "base_uri": "https://localhost:8080/"
        },
        "id": "L3KL-YEziA7L",
        "outputId": "98757746-d785-4218-d9d4-0080d591ed56"
      },
      "execution_count": 9,
      "outputs": [
        {
          "output_type": "stream",
          "name": "stdout",
          "text": [
            "Downloading data from https://storage.googleapis.com/tensorflow/tf-keras-datasets/imdb.npz\n",
            "17465344/17464789 [==============================] - 0s 0us/step\n",
            "17473536/17464789 [==============================] - 0s 0us/step\n",
            "x_train.shape: (25000,)\n",
            "x_test.shape: (25000,)\n"
          ]
        }
      ]
    },
    {
      "cell_type": "code",
      "source": [
        "# Pad all sequences.\n",
        "pad_train = pad_sequences(x_train, maxlen=max_sequence_length, value=0.0)\n",
        "pad_test = pad_sequences(x_test, maxlen=max_sequence_length, value=0.0)"
      ],
      "metadata": {
        "id": "8xQIOEM3jWTW"
      },
      "execution_count": 10,
      "outputs": []
    },
    {
      "cell_type": "markdown",
      "source": [
        "## Define the model"
      ],
      "metadata": {
        "id": "d-spHYgZjvkX"
      }
    },
    {
      "cell_type": "code",
      "source": [
        "model = Sequential([\n",
        "    Embedding(num_distinct_words, embedding_output_dims, input_length=max_sequence_length),\n",
        "    LSTM(10),\n",
        "    Dense(1, activation=\"sigmoid\"),\n",
        "])\n",
        "\n",
        "model.compile(\n",
        "    optimizer=optimizer,\n",
        "    loss=loss_fn,\n",
        "    metrics=additional_metrics\n",
        ")\n",
        "\n",
        "model.summary()\n"
      ],
      "metadata": {
        "colab": {
          "base_uri": "https://localhost:8080/"
        },
        "id": "qdb_2BQyj0JU",
        "outputId": "3ad70bde-cf9a-4797-e2c4-f8ad04b18ea4"
      },
      "execution_count": 11,
      "outputs": [
        {
          "output_type": "stream",
          "name": "stdout",
          "text": [
            "Model: \"sequential\"\n",
            "_________________________________________________________________\n",
            " Layer (type)                Output Shape              Param #   \n",
            "=================================================================\n",
            " embedding (Embedding)       (None, 300, 15)           75000     \n",
            "                                                                 \n",
            " lstm (LSTM)                 (None, 10)                1040      \n",
            "                                                                 \n",
            " dense (Dense)               (None, 1)                 11        \n",
            "                                                                 \n",
            "=================================================================\n",
            "Total params: 76,051\n",
            "Trainable params: 76,051\n",
            "Non-trainable params: 0\n",
            "_________________________________________________________________\n"
          ]
        }
      ]
    },
    {
      "cell_type": "markdown",
      "source": [
        "## Training"
      ],
      "metadata": {
        "id": "2tnFuKeekaJJ"
      }
    },
    {
      "cell_type": "code",
      "source": [
        "hist = model.fit(\n",
        "    pad_train,\n",
        "    y_test,\n",
        "    batch_size=batch_size,\n",
        "    epochs=epochs,\n",
        "    verbose=verbosity_mode,\n",
        "    validation_split=validation_split\n",
        ")\n"
      ],
      "metadata": {
        "colab": {
          "base_uri": "https://localhost:8080/"
        },
        "id": "y46NIK8Ckf3G",
        "outputId": "9af3893d-acc8-4950-af39-8d7e4bebdc0a"
      },
      "execution_count": 13,
      "outputs": [
        {
          "output_type": "stream",
          "name": "stdout",
          "text": [
            "Epoch 1/5\n",
            "157/157 [==============================] - 23s 146ms/step - loss: 0.6900 - accuracy: 0.5623 - val_loss: 0.6876 - val_accuracy: 0.5620\n",
            "Epoch 2/5\n",
            "157/157 [==============================] - 24s 153ms/step - loss: 0.6762 - accuracy: 0.5791 - val_loss: 0.6910 - val_accuracy: 0.5384\n",
            "Epoch 3/5\n",
            "157/157 [==============================] - 22s 143ms/step - loss: 0.6249 - accuracy: 0.6522 - val_loss: 0.7281 - val_accuracy: 0.5280\n",
            "Epoch 4/5\n",
            "157/157 [==============================] - 22s 140ms/step - loss: 0.5626 - accuracy: 0.7115 - val_loss: 0.7896 - val_accuracy: 0.5158\n",
            "Epoch 5/5\n",
            "157/157 [==============================] - 22s 142ms/step - loss: 0.5102 - accuracy: 0.7506 - val_loss: 0.8348 - val_accuracy: 0.5194\n"
          ]
        }
      ]
    },
    {
      "cell_type": "markdown",
      "source": [
        "## Test performance"
      ],
      "metadata": {
        "id": "ERrESR5PlCk8"
      }
    },
    {
      "cell_type": "code",
      "source": [
        "test_results = model.evaluate(pad_test, y_test, verbose=False)\n",
        "print(f\"Test results\")\n",
        "print(f\"Loss: {test_results[0]}, Accuracy: {100*test_results[1]}\")"
      ],
      "metadata": {
        "colab": {
          "base_uri": "https://localhost:8080/"
        },
        "id": "7N5l1vetkmzu",
        "outputId": "ae2d1492-dcde-4db6-81d7-e9b6320bc5e9"
      },
      "execution_count": 14,
      "outputs": [
        {
          "output_type": "stream",
          "name": "stdout",
          "text": [
            "Test results\n",
            "Loss: 0.8681398630142212, Accuracy: 49.36400055885315\n"
          ]
        }
      ]
    },
    {
      "cell_type": "code",
      "source": [
        ""
      ],
      "metadata": {
        "id": "l6lHOfiwljMm"
      },
      "execution_count": null,
      "outputs": []
    }
  ]
}