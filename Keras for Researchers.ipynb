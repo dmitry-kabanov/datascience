{
 "cells": [
  {
   "cell_type": "markdown",
   "id": "41583e9f-1341-403a-ad3b-a12289319016",
   "metadata": {},
   "source": [
    "# Keras for researchers"
   ]
  },
  {
   "cell_type": "markdown",
   "id": "4b5e0d20-8152-47a0-adb7-6a552fee9b78",
   "metadata": {},
   "source": [
    "Based on https://keras.io/getting_started/intro_to_keras_for_researchers/#tracking-losses-created-by-layers"
   ]
  },
  {
   "cell_type": "markdown",
   "id": "df655a56-940f-4410-9333-d7d5dbece758",
   "metadata": {},
   "source": [
    "## Setup"
   ]
  },
  {
   "cell_type": "code",
   "execution_count": 3,
   "id": "b3d392e1-fc62-458c-af88-cfa1ad4a5ae4",
   "metadata": {},
   "outputs": [],
   "source": [
    "import tensorflow as tf\n",
    "\n",
    "from tensorflow import keras"
   ]
  },
  {
   "cell_type": "markdown",
   "id": "57dc3ff8-b7af-440a-ac72-0c9014a8f2f6",
   "metadata": {},
   "source": [
    "## Introduction"
   ]
  },
  {
   "cell_type": "markdown",
   "id": "e47e82a9-7e59-4db1-bde4-14857beecfc2",
   "metadata": {},
   "source": [
    "## Tensors"
   ]
  },
  {
   "cell_type": "markdown",
   "id": "1d655966-b0ce-4462-ba59-81f4bd1a7ed8",
   "metadata": {},
   "source": [
    "Tensors are $N$-dimensional arrays"
   ]
  },
  {
   "cell_type": "code",
   "execution_count": 4,
   "id": "344488fd-67f8-43c1-831b-0d6646284b90",
   "metadata": {},
   "outputs": [],
   "source": [
    "x = tf.constant([[5, 2], [1, 3]])"
   ]
  },
  {
   "cell_type": "code",
   "execution_count": 5,
   "id": "9a0c00af-7061-4b10-ab8d-13a85231f813",
   "metadata": {},
   "outputs": [
    {
     "data": {
      "text/plain": [
       "<tf.Tensor: shape=(2, 2), dtype=int32, numpy=\n",
       "array([[5, 2],\n",
       "       [1, 3]], dtype=int32)>"
      ]
     },
     "execution_count": 5,
     "metadata": {},
     "output_type": "execute_result"
    }
   ],
   "source": [
    "x"
   ]
  },
  {
   "cell_type": "code",
   "execution_count": 6,
   "id": "56145c62-2632-4dbe-a195-f819cfb8e362",
   "metadata": {},
   "outputs": [
    {
     "data": {
      "text/plain": [
       "array([[5, 2],\n",
       "       [1, 3]], dtype=int32)"
      ]
     },
     "execution_count": 6,
     "metadata": {},
     "output_type": "execute_result"
    }
   ],
   "source": [
    "x.numpy()"
   ]
  },
  {
   "cell_type": "code",
   "execution_count": 7,
   "id": "54f7a734-3223-4df1-9649-6c71e17af3a8",
   "metadata": {},
   "outputs": [
    {
     "name": "stdout",
     "output_type": "stream",
     "text": [
      "x.dtype:  <dtype: 'int32'>\n"
     ]
    }
   ],
   "source": [
    "print(\"x.dtype: \", x.dtype)"
   ]
  },
  {
   "cell_type": "code",
   "execution_count": 8,
   "id": "adb37e0d-d5b8-461a-9c16-807349bb181c",
   "metadata": {},
   "outputs": [
    {
     "name": "stdout",
     "output_type": "stream",
     "text": [
      "x.shape:  (2, 2)\n"
     ]
    }
   ],
   "source": [
    "print(\"x.shape: \", x.shape)"
   ]
  },
  {
   "cell_type": "markdown",
   "id": "b8b82d08-993c-46e6-a4c7-edec349b2d51",
   "metadata": {},
   "source": [
    "Random tensors:"
   ]
  },
  {
   "cell_type": "code",
   "execution_count": 9,
   "id": "3b8d0f2f-2ec9-4251-be54-6121e2b488bd",
   "metadata": {},
   "outputs": [
    {
     "data": {
      "text/plain": [
       "<tf.Tensor: shape=(3, 2), dtype=float32, numpy=\n",
       "array([[ 0.39492682, -0.1946764 ],\n",
       "       [-0.20444185,  3.333077  ],\n",
       "       [-3.9967487 ,  0.62294835]], dtype=float32)>"
      ]
     },
     "execution_count": 9,
     "metadata": {},
     "output_type": "execute_result"
    }
   ],
   "source": [
    "tf.random.normal(shape=(3, 2), mean=0.0, stddev=2.0)"
   ]
  },
  {
   "cell_type": "markdown",
   "id": "1ff06602-3aa4-46bb-8473-4a73b44db973",
   "metadata": {},
   "source": [
    "## Variables"
   ]
  },
  {
   "cell_type": "markdown",
   "id": "ee4383d1-9990-4cab-b683-f566b33491cc",
   "metadata": {},
   "source": [
    "Variables are special tensors that store mutable state (it means that they can be changed). You need such tensors, for example, for the weights of a neural network, as the weights are supposed to be changable."
   ]
  },
  {
   "cell_type": "code",
   "execution_count": 10,
   "id": "a0e7c3f7-5505-44d6-ba3d-dbb816eba762",
   "metadata": {},
   "outputs": [],
   "source": [
    "initial_val = tf.random.normal(shape=(2, 3))"
   ]
  },
  {
   "cell_type": "code",
   "execution_count": 11,
   "id": "17a9bece-9c5b-414f-930d-51b7270cdc09",
   "metadata": {},
   "outputs": [],
   "source": [
    "a = tf.Variable(initial_val)"
   ]
  },
  {
   "cell_type": "code",
   "execution_count": 12,
   "id": "d3c4d5e1-c931-45ec-b18a-98c6c7d70a8d",
   "metadata": {},
   "outputs": [
    {
     "name": "stdout",
     "output_type": "stream",
     "text": [
      "<tf.Variable 'Variable:0' shape=(2, 3) dtype=float32, numpy=\n",
      "array([[-0.39302436,  0.06442708,  0.48715734],\n",
      "       [-2.1068187 ,  0.16153254,  0.11388011]], dtype=float32)>\n"
     ]
    }
   ],
   "source": [
    "print(a)"
   ]
  },
  {
   "cell_type": "markdown",
   "id": "23a6ebf1-7a5b-456f-bf5b-2d86fb3b74b7",
   "metadata": {},
   "source": [
    "To update variables, you need to use methods `assign`, `assign_add`, `assign_sub`:"
   ]
  },
  {
   "cell_type": "code",
   "execution_count": 19,
   "id": "c9545a50-92ad-4380-8ed4-c0f7cc0f4348",
   "metadata": {},
   "outputs": [],
   "source": [
    "new_val = tf.random.normal(shape=(2, 3))\n",
    "a.assign(new_val)\n",
    "\n",
    "for i in range(2):\n",
    "    for j in range(3):\n",
    "        assert a[i, j] == new_val[i, j]\n",
    "        \n",
    "extra = tf.random.normal(shape=(2, 3))\n",
    "a.assign_add(extra)\n",
    "\n",
    "for i in range(2):\n",
    "    for j in range(3):\n",
    "        assert a[i, j] == new_val[i, j] + extra[i, j]"
   ]
  },
  {
   "cell_type": "markdown",
   "id": "c80d8a89-ccf7-4b07-8b17-e1d5a07fd9bf",
   "metadata": {},
   "source": [
    "## Doing math in Tensorflow"
   ]
  },
  {
   "cell_type": "markdown",
   "id": "d1fbaa6b-b0f4-4f57-9fe9-051632a29e0e",
   "metadata": {},
   "source": [
    "You need to use Tensorflow mathematical functions to get differentiable tensors:"
   ]
  },
  {
   "cell_type": "code",
   "execution_count": 20,
   "id": "bc3adcb8-061b-44f8-9ca0-9997b3818256",
   "metadata": {},
   "outputs": [],
   "source": [
    "a = tf.Variable([[2.0, 1.0], [0.5, 0.3], [2.1, 1.7]])\n",
    "b = tf.Variable([[1.0, 3.0], [1.5, 1.8], [1.1, 1.8]])"
   ]
  },
  {
   "cell_type": "code",
   "execution_count": 21,
   "id": "d99399a6-bdd9-404b-adc3-58395eb51fdd",
   "metadata": {},
   "outputs": [
    {
     "data": {
      "text/plain": [
       "<tf.Tensor: shape=(3, 2), dtype=float32, numpy=\n",
       "array([[3.       , 4.       ],\n",
       "       [2.       , 2.1      ],\n",
       "       [3.1999998, 3.5      ]], dtype=float32)>"
      ]
     },
     "execution_count": 21,
     "metadata": {},
     "output_type": "execute_result"
    }
   ],
   "source": [
    "a+b"
   ]
  },
  {
   "cell_type": "code",
   "execution_count": 22,
   "id": "d69a0e6b-0c1c-4112-900f-b4ec1f81b487",
   "metadata": {},
   "outputs": [
    {
     "data": {
      "text/plain": [
       "<tf.Tensor: shape=(3, 2), dtype=float32, numpy=\n",
       "array([[7.389056 , 2.7182817],\n",
       "       [1.6487212, 1.3498589],\n",
       "       [8.166169 , 5.4739475]], dtype=float32)>"
      ]
     },
     "execution_count": 22,
     "metadata": {},
     "output_type": "execute_result"
    }
   ],
   "source": [
    "tf.exp(a)"
   ]
  },
  {
   "cell_type": "code",
   "execution_count": 23,
   "id": "526c7c47-a93f-4a75-80c9-18422713f5c3",
   "metadata": {},
   "outputs": [
    {
     "data": {
      "text/plain": [
       "<tf.Tensor: shape=(3, 2), dtype=float32, numpy=\n",
       "array([[ 2.7182817, 20.085537 ],\n",
       "       [ 4.481689 ,  6.0496473],\n",
       "       [ 3.0041661,  6.0496473]], dtype=float32)>"
      ]
     },
     "execution_count": 23,
     "metadata": {},
     "output_type": "execute_result"
    }
   ],
   "source": [
    "tf.exp(b)"
   ]
  },
  {
   "cell_type": "code",
   "execution_count": 24,
   "id": "80dbf94e-d091-4833-865b-d8a5461baf2e",
   "metadata": {},
   "outputs": [
    {
     "name": "stdout",
     "output_type": "stream",
     "text": [
      "tf.Tensor(\n",
      "[[20.085537 54.59815 ]\n",
      " [ 7.389056  8.166169]\n",
      " [24.532526 33.11545 ]], shape=(3, 2), dtype=float32)\n"
     ]
    }
   ],
   "source": [
    "c = a + b\n",
    "\n",
    "print(tf.exp(c))"
   ]
  },
  {
   "cell_type": "markdown",
   "id": "b68fe4ea-719e-4eff-98d4-1d454ef3a6c4",
   "metadata": {},
   "source": [
    "## Gradients"
   ]
  },
  {
   "cell_type": "markdown",
   "id": "0af7ff46-122a-4c2c-8d30-13b10084cac7",
   "metadata": {},
   "source": [
    "To compute derivatives automatically, open `GradientTape`, start watching a tensor, apply operations to this tensor, and then call `gradient` function:"
   ]
  },
  {
   "cell_type": "code",
   "execution_count": 28,
   "id": "2bc4eae9-cb22-493f-b2cd-0d1f2788f799",
   "metadata": {},
   "outputs": [
    {
     "name": "stdout",
     "output_type": "stream",
     "text": [
      "tf.Tensor(\n",
      "[[4.  2. ]\n",
      " [1.  0.6]\n",
      " [4.2 3.4]], shape=(3, 2), dtype=float32)\n"
     ]
    }
   ],
   "source": [
    "a = tf.Variable([[2.0, 1.0], [0.5, 0.3], [2.1, 1.7]])\n",
    "b = tf.Variable([[1.0, 3.0], [1.5, 1.8], [1.1, 1.8]])\n",
    "\n",
    "with tf.GradientTape() as g:\n",
    "    g.watch(a)\n",
    "    g.watch(b)\n",
    "    \n",
    "    c = tf.reduce_sum(tf.square(a) + tf.square(b))\n",
    "dc_da = g.gradient(c, a)\n",
    "print(dc_da)"
   ]
  },
  {
   "cell_type": "markdown",
   "id": "bef11f3e-06b3-486c-9e83-6eddeb91ac51",
   "metadata": {},
   "source": [
    "To compute higher-order derivatives, one needs to nest gradient tapes:"
   ]
  },
  {
   "cell_type": "code",
   "execution_count": 30,
   "id": "fbedaed8-cab0-4968-8379-69cb54f66a34",
   "metadata": {},
   "outputs": [
    {
     "name": "stdout",
     "output_type": "stream",
     "text": [
      "First-order gradient:  tf.Tensor(\n",
      "[[4.  2. ]\n",
      " [1.  0.6]\n",
      " [4.2 3.4]], shape=(3, 2), dtype=float32)\n",
      "Second order:  tf.Tensor(\n",
      "[[2. 2.]\n",
      " [2. 2.]\n",
      " [2. 2.]], shape=(3, 2), dtype=float32)\n"
     ]
    }
   ],
   "source": [
    "with tf.GradientTape() as gg:\n",
    "    with tf.GradientTape() as g:\n",
    "        g.watch(a)\n",
    "        gg.watch(a)\n",
    "        \n",
    "        c = tf.reduce_sum(tf.square(a) + tf.square(b))\n",
    "        \n",
    "    dc_da = g.gradient(c, a)\n",
    "    \n",
    "d2c_da2 = gg.gradient(dc_da, a)\n",
    "\n",
    "print(\"First-order gradient: \", dc_da)\n",
    "print(\"Second order: \", d2c_da2)"
   ]
  },
  {
   "cell_type": "code",
   "execution_count": 31,
   "id": "1b91e2a3-9317-4039-959b-8a84efbc96ad",
   "metadata": {},
   "outputs": [
    {
     "data": {
      "text/plain": [
       "<tf.Tensor: shape=(), dtype=float32, numpy=32.579998>"
      ]
     },
     "execution_count": 31,
     "metadata": {},
     "output_type": "execute_result"
    }
   ],
   "source": [
    "c"
   ]
  },
  {
   "cell_type": "markdown",
   "id": "364e4a4b-5452-48c0-914a-c6f347ffdb86",
   "metadata": {},
   "source": [
    "## Keras layers"
   ]
  },
  {
   "cell_type": "markdown",
   "id": "3502b3e8-8036-4617-a965-8186b9295919",
   "metadata": {},
   "source": [
    "The `Layer` class is a fundamental abstraction in Keras. It defines some state to optimize (parameters) and also describes how something is computed in the `call` method:"
   ]
  },
  {
   "cell_type": "code",
   "execution_count": 53,
   "id": "b1333dc3-cc04-4bff-b52d-4bc0e4291863",
   "metadata": {},
   "outputs": [],
   "source": [
    "class Linear(keras.layers.Layer):\n",
    "    \"\"\"Simple affine transformation y = wx + b.\"\"\"\n",
    "    \n",
    "    def __init__(self, units=32, input_dim=32):\n",
    "        super().__init__()\n",
    "        w_init = tf.random_normal_initializer()\n",
    "        self.w = tf.Variable(\n",
    "            initial_value=w_init(shape=(input_dim, units), dtype=\"float32\"),\n",
    "            trainable=True,\n",
    "        )\n",
    "        \n",
    "        b_init = tf.zeros_initializer()\n",
    "        self.b = tf.Variable(\n",
    "            initial_value=b_init(shape=(units,), dtype=\"float32\"),\n",
    "            trainable=True,\n",
    "        )\n",
    "        \n",
    "    def call(self, x):\n",
    "        tf.print(self.w.shape)\n",
    "        return tf.matmul(x, self.w) + self.b"
   ]
  },
  {
   "cell_type": "markdown",
   "id": "6080c7a8-9ec7-4435-b2a9-e28e52600551",
   "metadata": {},
   "source": [
    "Instances of `Layer` class can be used as normal python functions as they define `__call__` method:"
   ]
  },
  {
   "cell_type": "code",
   "execution_count": 54,
   "id": "79dc214c-b024-4142-bc39-fc7beb7d09e7",
   "metadata": {},
   "outputs": [
    {
     "name": "stdout",
     "output_type": "stream",
     "text": [
      "TensorShape([2, 4])\n",
      "tf.Tensor(\n",
      "[[-0.04402942 -0.10532849 -0.03533593 -0.16009355]\n",
      " [-0.04402942 -0.10532849 -0.03533593 -0.16009355]], shape=(2, 4), dtype=float32)\n"
     ]
    }
   ],
   "source": [
    "lin = Linear(4, 2)\n",
    "\n",
    "y = lin(tf.ones((2, 2)))\n",
    "\n",
    "print(y)\n",
    "\n",
    "assert y.shape == (2, 4)"
   ]
  },
  {
   "cell_type": "code",
   "execution_count": 48,
   "id": "8464549c-f3b6-4582-b4f4-494fe4da84d3",
   "metadata": {},
   "outputs": [
    {
     "data": {
      "text/plain": [
       "TensorShape([2, 4])"
      ]
     },
     "execution_count": 48,
     "metadata": {},
     "output_type": "execute_result"
    }
   ],
   "source": [
    "lin.w.shape"
   ]
  },
  {
   "cell_type": "code",
   "execution_count": 55,
   "id": "eb7d0eb5-0957-447b-87fc-5c1b526132f3",
   "metadata": {},
   "outputs": [
    {
     "data": {
      "text/plain": [
       "[<tf.Variable 'Variable:0' shape=(2, 4) dtype=float32, numpy=\n",
       " array([[-0.00019974,  0.00344037, -0.01844168, -0.0733403 ],\n",
       "        [-0.04382969, -0.10876886, -0.01689425, -0.08675325]],\n",
       "       dtype=float32)>,\n",
       " <tf.Variable 'Variable:0' shape=(4,) dtype=float32, numpy=array([0., 0., 0., 0.], dtype=float32)>]"
      ]
     },
     "execution_count": 55,
     "metadata": {},
     "output_type": "execute_result"
    }
   ],
   "source": [
    "lin.weights"
   ]
  },
  {
   "cell_type": "markdown",
   "id": "53795ed9-d9d5-4cfa-93e0-c7515c3fcead",
   "metadata": {},
   "source": [
    "## Layer weight creation"
   ]
  },
  {
   "cell_type": "code",
   "execution_count": null,
   "id": "2399925f-6759-4754-a346-a8e776bcfe2d",
   "metadata": {},
   "outputs": [],
   "source": []
  }
 ],
 "metadata": {
  "kernelspec": {
   "display_name": "Python 3",
   "language": "python",
   "name": "python3"
  },
  "language_info": {
   "codemirror_mode": {
    "name": "ipython",
    "version": 3
   },
   "file_extension": ".py",
   "mimetype": "text/x-python",
   "name": "python",
   "nbconvert_exporter": "python",
   "pygments_lexer": "ipython3",
   "version": "3.7.10"
  }
 },
 "nbformat": 4,
 "nbformat_minor": 5
}
